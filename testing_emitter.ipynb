{
 "cells": [
  {
   "cell_type": "code",
   "execution_count": 1,
   "metadata": {},
   "outputs": [
    {
     "name": "stdout",
     "output_type": "stream",
     "text": [
      "Thu Jul  4 11:00:01 2024       \n",
      "+---------------------------------------------------------------------------------------+\n",
      "| NVIDIA-SMI 535.183.01             Driver Version: 535.183.01   CUDA Version: 12.2     |\n",
      "|-----------------------------------------+----------------------+----------------------+\n",
      "| GPU  Name                 Persistence-M | Bus-Id        Disp.A | Volatile Uncorr. ECC |\n",
      "| Fan  Temp   Perf          Pwr:Usage/Cap |         Memory-Usage | GPU-Util  Compute M. |\n",
      "|                                         |                      |               MIG M. |\n",
      "|=========================================+======================+======================|\n",
      "|   0  NVIDIA GeForce RTX 4080        Off | 00000000:2D:00.0  On |                  N/A |\n",
      "|  0%   40C    P5              20W / 320W |     89MiB / 16376MiB |      0%      Default |\n",
      "|                                         |                      |                  N/A |\n",
      "+-----------------------------------------+----------------------+----------------------+\n",
      "                                                                                         \n",
      "+---------------------------------------------------------------------------------------+\n",
      "| Processes:                                                                            |\n",
      "|  GPU   GI   CI        PID   Type   Process name                            GPU Memory |\n",
      "|        ID   ID                                                             Usage      |\n",
      "|=======================================================================================|\n",
      "|    0   N/A  N/A   1252331      G   /usr/lib/xorg/Xorg                           81MiB |\n",
      "+---------------------------------------------------------------------------------------+\n"
     ]
    }
   ],
   "source": [
    "!nvidia-smi"
   ]
  },
  {
   "cell_type": "code",
   "execution_count": 2,
   "metadata": {},
   "outputs": [],
   "source": [
    "from dataclasses import dataclass\n",
    "from functools import partial\n",
    "from math import floor \n",
    "from typing import Callable, Tuple, Any\n",
    "\n",
    "import jax\n",
    "from jax import debug\n",
    "import jax.numpy as jnp\n",
    "import flax.linen as nn\n",
    "import optax\n",
    "from chex import ArrayTree\n",
    "from qdax.core.containers.repertoire import Repertoire\n",
    "from qdax.types import Descriptor, ExtraScores, Fitness, Genotype, RNGKey\n",
    "from qdax.environments.base_wrappers import QDEnv\n",
    "from qdax.core.neuroevolution.buffers.buffer import QDTransition\n",
    "from qdax.core.neuroevolution.buffers.trajectory_buffer import TrajectoryBuffer\n",
    "from rein_related import *\n",
    "\n",
    "from qdax.core.emitters.emitter import Emitter, EmitterState"
   ]
  },
  {
   "cell_type": "code",
   "execution_count": 3,
   "metadata": {},
   "outputs": [],
   "source": [
    "EPS = 1e-8\n",
    "\n",
    "\n",
    "@dataclass\n",
    "class MCPGConfig:\n",
    "    \"\"\"Configuration for the REINaive emitter.\n",
    "    \n",
    "    Args:\n",
    "        rollout_number: num of rollouts for gradient estimate\n",
    "        sample_sigma: std to sample the samples for gradient estimate  (IS THIS PARAMETER SPACE EXPLORATION?)\n",
    "        sample_mirror: if True, use mirroring sampling\n",
    "        sample_rank_norm: if True, use normalisation\n",
    "        \n",
    "        num_generations_sample: frequency of archive-sampling\n",
    "        \n",
    "        adam_optimizer: if True, use ADAM, if False, use SGD\n",
    "        learning_rate: obvious\n",
    "        l2_coefficient: coefficient for regularisation\n",
    "        \n",
    "        novelty_nearest_neighbors: num of nearest neigbors for novelty computation\n",
    "        use_novelty_archive: if True, use novelty archive for novelty (default is to use the content of the reperoire)\n",
    "        use_novelty_fifo: if True, use fifo archive for novelty (default is to use the content of the repertoire)\n",
    "        fifo_size: size of the novelty fifo bugger if used\n",
    "        \n",
    "        proprtion_explore: proportion of explore\n",
    "    \"\"\"\n",
    "    no_agents: int = 256\n",
    "    batch_size: int = 1000*256\n",
    "    mini_batch_size: int = 1000*256\n",
    "    no_epochs: int = 16\n",
    "    learning_rate: float = 3e-4\n",
    "    discount_rate: float = 0.99\n",
    "    adam_optimizer: bool = True\n",
    "    buffer_size: int = 256000\n",
    "    clip_param: float = 0.2\n",
    "    \n",
    "class MCPGEmitterState(EmitterState):\n",
    "    \"\"\"Containes the trajectory buffer.\n",
    "    \"\"\"\n",
    "    buffer: TrajectoryBuffer\n",
    "    random_key: RNGKey\n",
    "    \n",
    "class MCPGEmitter(Emitter):\n",
    "    \n",
    "    def __init__(\n",
    "        self,\n",
    "        config: MCPGConfig,\n",
    "        policy_net: nn.Module,\n",
    "        env: QDEnv,\n",
    "    ) -> None:\n",
    "        \n",
    "        self._config = config\n",
    "        self._policy = policy_net\n",
    "        self._env = env\n",
    "        \n",
    "        self._policy_opt = optax.adam(\n",
    "            learning_rate=self._config.learning_rate\n",
    "        )\n",
    "        \n",
    "    @property\n",
    "    def batch_size(self) -> int:\n",
    "        \"\"\"\n",
    "        Returns:\n",
    "            int: the batch size emitted by the emitter.\n",
    "        \"\"\"\n",
    "        return self._config.no_agents\n",
    "    \n",
    "    @property\n",
    "    def use_all_data(self) -> bool:\n",
    "        \"\"\"Whther to use all data or not when used along other emitters.\n",
    "        \"\"\"\n",
    "        return True\n",
    "    \n",
    "    @partial(jax.jit, static_argnames=(\"self\",))\n",
    "    def init(\n",
    "        self,\n",
    "        random_key: RNGKey,\n",
    "        repertoire: Repertoire,\n",
    "        genotypes: Genotype,\n",
    "        fitnesses: Fitness,\n",
    "        descriptors: Descriptor,\n",
    "        extra_scores: ExtraScores,\n",
    "    ) -> Tuple[MCPGEmitterState, RNGKey]:\n",
    "        \"\"\"Initializes the emitter state.\n",
    "        \"\"\"\n",
    "        obs_size = self._env.observation_size\n",
    "        action_size = self._env.action_size\n",
    "        descriptor_size = self._env.state_descriptor_length\n",
    "        \n",
    "        # Init trajectory buffer\n",
    "        dummy_transition = QDTransition.init_dummy(\n",
    "            observation_dim=obs_size,\n",
    "            action_dim=action_size,\n",
    "            descriptor_dim=descriptor_size,\n",
    "        )\n",
    "        \n",
    "        buffer = TrajectoryBuffer.init(\n",
    "            buffer_size=self._config.buffer_size,\n",
    "            transition=dummy_transition,\n",
    "            env_batch_size=self._config.no_agents*2,\n",
    "            episode_length=self._env.episode_length,\n",
    "        )\n",
    "        \n",
    "        random_key, subkey = jax.random.split(random_key)\n",
    "        emitter_state = MCPGEmitterState(\n",
    "            buffer=buffer,\n",
    "            random_key=subkey,\n",
    "        )\n",
    "        \n",
    "        return emitter_state, random_key\n",
    "    \n",
    "    @partial(jax.jit, static_argnames=(\"self\",))\n",
    "    def emit(\n",
    "        self,\n",
    "        repertoire: Repertoire,\n",
    "        emitter_state: MCPGEmitterState,\n",
    "        random_key: RNGKey,\n",
    "    ) -> Tuple[Genotype, RNGKey]:\n",
    "        \"\"\"Do a step of MCPG emission.\n",
    "        \"\"\"\n",
    "        \n",
    "        no_agents = self._config.no_agents\n",
    "        \n",
    "        # sample parents\n",
    "        parents, random_key = repertoire.sample(\n",
    "            random_key=random_key,\n",
    "            num_samples=no_agents,\n",
    "        )\n",
    "        \n",
    "        offsprings_mcpg = self.emit_mcpg(emitter_state, parents)\n",
    "        \n",
    "        return offsprings_mcpg, {}, random_key\n",
    "    \n",
    "    @partial(jax.jit, static_argnames=(\"self\",))\n",
    "    def emit_mcpg(\n",
    "        self,\n",
    "        emitter_state: MCPGEmitterState,\n",
    "        parents: Genotype,\n",
    "    ) -> Genotype:\n",
    "        \"\"\"Emit the offsprings generated through MCPG mutation.\n",
    "        \"\"\"\n",
    "        \n",
    "        mutation_fn = partial(\n",
    "            self._mutation_function_mcpg,\n",
    "            emitter_state=emitter_state,\n",
    "        )\n",
    "        \n",
    "        offsprings = jax.vmap(mutation_fn)(parents)\n",
    "        \n",
    "        return offsprings\n",
    "    \n",
    "    @partial(jax.jit, static_argnames=(\"self\",))\n",
    "    def state_update(\n",
    "        self,\n",
    "        emitter_state: MCPGEmitterState,\n",
    "        repertoire: Optional[Repertoire],\n",
    "        genotypes: Optional[Genotype],\n",
    "        fitnesses: Optional[Fitness],\n",
    "        descriptors: Optional[Descriptor],\n",
    "        extra_scores: ExtraScores,\n",
    "    ) -> MCPGEmitterState:\n",
    "        \"\"\"Update the emitter state.\n",
    "        \"\"\"\n",
    "        \n",
    "        assert \"transitions\" in extra_scores.keys(), \"Missing transtitions or wrong key\"\n",
    "        transitions = extra_scores[\"transitions\"]\n",
    "        \n",
    "        # update the buffer\n",
    "        replay_buffer = emitter_state.buffer.insert(transitions)\n",
    "        emitter_state = emitter_state.replace(buffer=replay_buffer)\n",
    "        \n",
    "        return emitter_state\n",
    "    \n",
    "    @partial(jax.jit, static_argnames=(\"self\",))\n",
    "    def compute_mask(\n",
    "        self,\n",
    "        done,\n",
    "    ):\n",
    "        return 1. - jnp.clip(jnp.cumsum(done), a_min=0., a_max=1.)\n",
    "    '''\n",
    "    @partial(jax.jit, static_argnames=(\"self\",))\n",
    "    def compute_logps(\n",
    "        self,\n",
    "        policy_params,\n",
    "        obs,\n",
    "        actions,\n",
    "    ):\n",
    "        \"\"\"Compute the log probabilities of the actions.\n",
    "        \"\"\"\n",
    "        compute_logp = partial(\n",
    "            self._policy.apply,\n",
    "            params=policy_params,\n",
    "            method=self._policy.logp,\n",
    "        )\n",
    "        \n",
    "        return jax.vmap(compute_logp)(obs, actions)\n",
    "    '''\n",
    "    \n",
    "    @partial(jax.jit, static_argnames=(\"self\",))\n",
    "    def compute_logps(self, policy_params, obs, actions):\n",
    "        def compute_logp(single_obs, single_action):\n",
    "            # Correctly handle operations on single_obs and single_action\n",
    "            # Ensure no inappropriate method calls like .items() are made\n",
    "            return self._policy.apply(policy_params, single_obs, single_action, method=self._policy.logp)\n",
    "\n",
    "        # Use jax.vmap to apply compute_logp across batches of obs and actions\n",
    "        return jax.vmap(compute_logp, in_axes=(0, 0))(obs, actions)\n",
    "       \n",
    "    @partial(jax.jit, static_argnames=(\"self\",))\n",
    "    def get_return(\n",
    "        self,\n",
    "        rewards,\n",
    "    ):\n",
    "        def _body(carry, x):\n",
    "            (next_return,) = carry\n",
    "            (rewards,) = x\n",
    "\n",
    "            current_return = rewards + self._config.discount_rate * next_return\n",
    "            return (current_return,), (current_return,)\n",
    "        \n",
    "        \n",
    "        \n",
    "        #jax.debug.print(\"rewards\", rewards.shape)\n",
    "        \n",
    "        _, (return_,) = jax.lax.scan(\n",
    "            _body,\n",
    "            (jnp.array(0.),),\n",
    "            (rewards,),\n",
    "            length=self._env.episode_length,\n",
    "            reverse=True,\n",
    "        )\n",
    "        \n",
    "        return return_\n",
    "    \n",
    "    \n",
    "    '''\n",
    "    @partial(jax.jit, static_argnames=(\"self\",))\n",
    "    def get_return(self, rewards):\n",
    "        def _body(carry, reward):\n",
    "            next_return = carry  # carry should be unpacked directly if it's a single element\n",
    "            current_return = reward + self._config.discount_rate * next_return\n",
    "            return current_return, current_return  # Maintain the same shape and type\n",
    "\n",
    "        initial_return = jnp.array(0.0)  # Ensure initial_return is correctly shaped as a scalar\n",
    "        _, return_ = jax.lax.scan(\n",
    "            _body,\n",
    "            initial_return,\n",
    "            rewards,  # Pass rewards directly without extra tuple wrapping\n",
    "            length=int(self._env.episode_length),\n",
    "            reverse=True,\n",
    "        )\n",
    "\n",
    "        return return_\n",
    "    '''\n",
    "    \n",
    "    @partial(jax.jit, static_argnames=(\"self\",))\n",
    "    def standardize(\n",
    "        self,\n",
    "        return_,\n",
    "    ):\n",
    "        return jax.nn.standardize(return_, axis=0, variance=1, epsilon=EPS)\n",
    "    \n",
    "    @partial(jax.jit, static_argnames=(\"self\",))\n",
    "    def get_standardized_return(\n",
    "        self,\n",
    "        rewards,\n",
    "        mask,\n",
    "    ):\n",
    "        mask = jnp.expand_dims(mask, axis=-1)\n",
    "        valid_rewards = (rewards * mask).squeeze(axis=-1)\n",
    "        #jax.debug.print(\"mask: {}\", mask.shape)\n",
    "        #jax.debug.print(\"rewards*mask: {}\", (rewards * mask).shape)\n",
    "        return_ = jax.vmap(self.get_return)(valid_rewards)\n",
    "        return self.standardize(return_)\n",
    "    \n",
    "    @partial(jax.jit, static_argnames=(\"self\",))\n",
    "    def _mutation_function_mcpg(\n",
    "        self,\n",
    "        policy_params,\n",
    "        emitter_state: MCPGEmitterState,\n",
    "    ) -> Genotype:\n",
    "        \"\"\"Mutation function for MCPG.\n",
    "        \"\"\"\n",
    "        \n",
    "        buffer = emitter_state.buffer\n",
    "        \n",
    "        policy_opt_state = self._policy_opt.init(policy_params)\n",
    "        \n",
    "        random_key = emitter_state.random_key\n",
    "        \n",
    "        #random_key, subkey = jax.random.split(emitter_state.random_key)\n",
    "        sample_size = int(self._config.batch_size) // int(self._env.episode_length)\n",
    "        #print(f\"episodic_data_size: {int(buffer.current_episodic_data_size)}\")\n",
    "        #episodic_data_size = buffer.current_episodic_data_size.item()\n",
    "        \n",
    "        trans, random_key = buffer.sample(\n",
    "            random_key=random_key,\n",
    "            sample_size=sample_size,\n",
    "            episodic_data_size=64,\n",
    "            sample_traj=True,\n",
    "        )\n",
    "        new_emitter_state = emitter_state.replace(random_key=random_key)\n",
    "        # trans has shape (episde_length*sample_size, transition_dim)\n",
    "        \n",
    "        obs = trans.obs.reshape(sample_size, self._env.episode_length, -1)\n",
    "        actions = trans.actions.reshape(sample_size, self._env.episode_length, -1)\n",
    "        rewards = trans.rewards.reshape(sample_size, self._env.episode_length, -1)\n",
    "        #jax.debug.print(\"rewards shape: {}\", rewards.shape)\n",
    "        #print(f\"rewards shape: {rewards.shape}\")\n",
    "        dones = trans.dones.reshape(sample_size, self._env.episode_length, -1)\n",
    "        \n",
    "        mask = jax.vmap(self.compute_mask, in_axes=0)(dones)\n",
    "        logps = jax.vmap(self.compute_logps, in_axes=(None, 0, 0))(policy_params, obs, actions)\n",
    "        \n",
    "        standardized_returns = self.get_standardized_return(rewards, mask)\n",
    "        \n",
    "        def scan_train_policy(\n",
    "            carry: Tuple[MCPGEmitterState, Genotype, optax.OptState],\n",
    "            unused: Any,\n",
    "        ) -> Tuple[Tuple[MCPGEmitterState, Genotype, optax.OptState], Any]:\n",
    "            \n",
    "            policy_params, policy_opt_state = carry\n",
    "            \n",
    "            (\n",
    "                new_policy_params,\n",
    "                new_policy_opt_state,\n",
    "            ) = self._train_policy_(\n",
    "                policy_params,\n",
    "                policy_opt_state,\n",
    "                obs,\n",
    "                actions,\n",
    "                standardized_returns,\n",
    "                mask,\n",
    "                logps,\n",
    "            )\n",
    "            \n",
    "            return (\n",
    "                new_policy_params,\n",
    "                new_policy_opt_state,\n",
    "            ), None\n",
    "\n",
    "        (policy_params, policy_opt_state), _ = jax.lax.scan(\n",
    "            scan_train_policy,\n",
    "            (policy_params, policy_opt_state),\n",
    "            None,\n",
    "            length=self._config.no_epochs,\n",
    "        )\n",
    "        \n",
    "        return policy_params\n",
    "    \n",
    "    \n",
    "    @partial(jax.jit, static_argnames=(\"self\",))\n",
    "    def _train_policy_(\n",
    "        self,\n",
    "        policy_params,\n",
    "        policy_opt_state,\n",
    "        obs,\n",
    "        actions,\n",
    "        standardized_returns,\n",
    "        mask,\n",
    "        logps,\n",
    "    ):\n",
    "        \"\"\"Train the policy.\n",
    "        \"\"\"\n",
    "        \n",
    "        def _scan_update(carry, _):\n",
    "            policy_params, policy_opt_state = carry\n",
    "            grads = jax.grad(self.loss_ppo)(policy_params, obs, actions, logps, mask, standardized_returns)\n",
    "            updates, new_policy_opt_state = self._policy_opt.update(grads, policy_opt_state)\n",
    "            new_policy_params = optax.apply_updates(policy_params, updates)\n",
    "            return (new_policy_params, new_policy_opt_state), None\n",
    "        \n",
    "        (final_policy_params, final_policy_opt_state), _ = jax.lax.scan(\n",
    "            _scan_update,\n",
    "            (policy_params, policy_opt_state),\n",
    "            None,\n",
    "            length=1,\n",
    "        )\n",
    "\n",
    "        return final_policy_params, final_policy_opt_state\n",
    "    \n",
    "    @partial(jax.jit, static_argnames=(\"self\",))\n",
    "    def loss_ppo(\n",
    "        self,\n",
    "        params,\n",
    "        obs,\n",
    "        actions,\n",
    "        logps,\n",
    "        mask,\n",
    "        standardized_returns,\n",
    "    ):\n",
    "        \n",
    "        logps_ = self._policy.apply(\n",
    "            params,\n",
    "            jax.lax.stop_gradient(obs),\n",
    "            jax.lax.stop_gradient(actions),\n",
    "            method=self._policy.logp,\n",
    "        )\n",
    "        ratio = jnp.exp(logps_ - jax.lax.stop_gradient(logps))\n",
    "        \n",
    "        pg_loss_1 = jnp.multiply(ratio * mask, jax.lax.stop_gradient(standardized_returns))\n",
    "        pg_loss_2 = jax.lax.stop_gradient(standardized_returns) * jax.lax.clamp(1. - self._config.clip_param, ratio, 1. + self._config.clip_param) * mask\n",
    "        \n",
    "        return -jnp.mean(jnp.minimum(pg_loss_1, pg_loss_2))"
   ]
  },
  {
   "cell_type": "code",
   "execution_count": 4,
   "metadata": {},
   "outputs": [],
   "source": [
    "import os\n",
    "\n",
    "os.environ['MPLCONFIGDIR'] = '/tmp/matplotlib'\n",
    "os.environ['WANDB_CACHE_DIR'] = '/tmp/wandb_cache'\n",
    "os.environ['JAX_LOG_COMPILATION'] = '1'\n",
    "\n",
    "import logging\n",
    "import time\n",
    "from dataclasses import dataclass\n",
    "from functools import partial\n",
    "from math import floor\n",
    "from typing import Any, Dict, Tuple, List, Callable\n",
    "import pickle\n",
    "from flax import serialization\n",
    "#logging.basicConfig(level=logging.DEBUG)\n",
    "import hydra\n",
    "from omegaconf import OmegaConf, DictConfig\n",
    "import jax\n",
    "import jax.numpy as jnp\n",
    "from hydra.core.config_store import ConfigStore\n",
    "from qdax.core.map_elites import MAPElites\n",
    "from qdax.types import RNGKey, Genotype\n",
    "from qdax.utils.sampling import sampling \n",
    "from qdax.core.containers.mapelites_repertoire import compute_cvt_centroids, MapElitesRepertoire\n",
    "from qdax.core.neuroevolution.networks.networks import MLPMCPG\n",
    "from qdax.core.emitters.me_mcpg_emitter import MEMCPGConfig, MEMCPGEmitter\n",
    "#from qdax.core.emitters.rein_emitter_advanced import REINaiveConfig, REINaiveEmitter\n",
    "from qdax.core.neuroevolution.buffers.buffer import QDTransition\n",
    "from qdax.environments import behavior_descriptor_extractor\n",
    "from qdax.tasks.brax_envs import reset_based_scoring_function_brax_envs as scoring_function\n",
    "from utils import Config, get_env\n",
    "from qdax.core.emitters.mutation_operators import isoline_variation\n",
    "import wandb\n",
    "from qdax.utils.metrics import CSVLogger, default_qd_metrics\n",
    "from qdax.utils.plotting import plot_map_elites_results, plot_2d_map_elites_repertoire\n",
    "import matplotlib.pyplot as plt\n",
    "from set_up_brax import get_reward_offset_brax\n",
    "from qdax import environments_v1, environments"
   ]
  },
  {
   "cell_type": "code",
   "execution_count": 5,
   "metadata": {},
   "outputs": [],
   "source": [
    "def get_env(env_name):\n",
    "    if env_name == \"hopper_uni\":\n",
    "        episode_length = 1000\n",
    "        \n",
    "        env = environments_v1.create(env_name, episode_length=episode_length)\n",
    "    elif env_name == \"halfcheetah_uni\":\n",
    "        episode_length = 1000\n",
    "\n",
    "        env = environments_v1.create(env_name, episode_length=episode_length)\n",
    "        \n",
    "    elif env_name == \"walker2d_uni\":\n",
    "        episode_length = 1000\n",
    "\n",
    "        env = environments_v1.create(env_name, episode_length=episode_length)\t\n",
    "    elif env_name == \"ant_uni\":\n",
    "        episode_length = 1000\n",
    "\n",
    "        env = environments_v1.create(env_name, episode_length=episode_length, use_contact_forces=False, exclude_current_positions_from_observation=True)\n",
    "    elif env_name == \"humanoid_uni\":\n",
    "        episode_length = 1000\n",
    "\n",
    "        env = environments_v1.create(env_name, episode_length=episode_length, exclude_current_positions_from_observation=True)\t\n",
    "    '''\n",
    "    elif env_name == \"ant_omni\":\n",
    "        episode_length = 250\n",
    "        max_bd = 30.\n",
    "\n",
    "        env = environments.create(env_name, episode_length=episode_length, use_contact_forces=False, exclude_current_positions_from_observation=False)\t\n",
    "    elif env_name == \"humanoid_uni\":\n",
    "        episode_length = 1000\n",
    "        max_bd = 1.\n",
    "\n",
    "        env = environments.create(env_name, episode_length=episode_length)\t\n",
    "    else:\n",
    "        ValueError(f\"Environment {env_name} not supported.\")\n",
    "    '''\n",
    "    return env"
   ]
  },
  {
   "cell_type": "code",
   "execution_count": 6,
   "metadata": {},
   "outputs": [],
   "source": [
    "@dataclass\n",
    "class Config:\n",
    "    \"\"\"Configuration from this experiment script\n",
    "    \"\"\"\n",
    "    # Env config\n",
    "    #alg_name: str\n",
    "    seed: int\n",
    "    env_name: str\n",
    "    episode_length: int\n",
    "    policy_hidden_layer_sizes: Tuple[int, ...]   \n",
    "    # ME config\n",
    "    num_evaluations: int\n",
    "    num_iterations: int\n",
    "    no_agents: int\n",
    "    num_samples: int\n",
    "    fixed_init_state: bool\n",
    "    discard_dead: bool\n",
    "    # Emitter config\n",
    "    iso_sigma: float\n",
    "    line_sigma: float\n",
    "    #crossover_percentage: float\n",
    "    # Grid config \n",
    "    grid_shape: Tuple[int, ...]\n",
    "    num_init_cvt_samples: int\n",
    "    num_centroids: int\n",
    "    # Log config\n",
    "    log_period: int\n",
    "    store_repertoire: bool\n",
    "    store_repertoire_log_period: int\n",
    "    \n",
    "    # REINFORCE Parameters\n",
    "    proportion_mutation_ga : float\n",
    "    batch_size: int\n",
    "    mini_batch_size: int\n",
    "    adam_optimizer: bool\n",
    "    learning_rate: float\n",
    "    discount_rate: float\n",
    "    buffer_size: int\n",
    "    clip_param: float\n",
    "    no_epochs: int"
   ]
  },
  {
   "cell_type": "code",
   "execution_count": 7,
   "metadata": {},
   "outputs": [],
   "source": [
    "config = Config(\n",
    "    seed=0,\n",
    "    env_name='ant_uni',\n",
    "    episode_length=1000,\n",
    "    policy_hidden_layer_sizes=[128, 128],\n",
    "    num_evaluations=0,\n",
    "    num_iterations=4000,\n",
    "    num_samples=16,\n",
    "    no_agents=64,\n",
    "    fixed_init_state=False,\n",
    "    discard_dead=False,\n",
    "    grid_shape=[50, 50],\n",
    "    num_init_cvt_samples=50000,\n",
    "    num_centroids=1296,\n",
    "    log_period=400,\n",
    "    store_repertoire=True,\n",
    "    store_repertoire_log_period=800,\n",
    "    iso_sigma=0.005,\n",
    "    line_sigma=0.05,\n",
    "    proportion_mutation_ga=0.5,\n",
    "    batch_size=64000,\n",
    "    mini_batch_size=64000,\n",
    "    no_epochs=16,\n",
    "    buffer_size=64000,\n",
    "    adam_optimizer=True,\n",
    "    learning_rate=3e-4,\n",
    "    discount_rate=0.99,\n",
    "    clip_param=0.2\n",
    ")"
   ]
  },
  {
   "cell_type": "code",
   "execution_count": 8,
   "metadata": {},
   "outputs": [
    {
     "name": "stdout",
     "output_type": "stream",
     "text": [
      "[128, 128]\n",
      "Number of parameters in policy_network:  21264\n"
     ]
    }
   ],
   "source": [
    "# Init a random key\n",
    "random_key = jax.random.PRNGKey(config.seed)\n",
    "\n",
    "# Init environment\n",
    "env = get_env('ant_uni')\n",
    "reset_fn = jax.jit(env.reset)\n",
    "\n",
    "# Compute the centroids\n",
    "centroids, random_key = compute_cvt_centroids(\n",
    "    num_descriptors=env.behavior_descriptor_length,\n",
    "    num_init_cvt_samples=config.num_init_cvt_samples,\n",
    "    num_centroids=config.num_centroids,\n",
    "    minval=0,\n",
    "    maxval=1,\n",
    "    random_key=random_key,\n",
    ")\n",
    "# Init policy network\n",
    "policy_layer_sizes = config.policy_hidden_layer_sizes #+ (env.action_size,)\n",
    "print(policy_layer_sizes)\n",
    "\n",
    "'''\n",
    "policy_network = MLPRein(\n",
    "    action_size=env.action_size,\n",
    "    layer_sizes=policy_layer_sizes,\n",
    "    kernel_init=jax.nn.initializers.orthogonal(scale=jnp.sqrt(2)),\n",
    "    kernel_init_final=jax.nn.initializers.orthogonal(scale=0.01),\n",
    ")\n",
    "'''\n",
    "policy_network = MLPMCPG(\n",
    "    hidden_layers_size=policy_layer_sizes,\n",
    "    action_size=env.action_size,\n",
    "    activation=jax.nn.tanh,\n",
    "    hidden_init=jax.nn.initializers.orthogonal(scale=jnp.sqrt(2)),\n",
    "    mean_init=jax.nn.initializers.orthogonal(scale=0.01),\n",
    ")\n",
    "\n",
    "# Init population of controllers\n",
    "\n",
    "# maybe consider adding two random keys for each policy\n",
    "random_key, subkey = jax.random.split(random_key)\n",
    "keys = jax.random.split(subkey, num=config.no_agents)\n",
    "#split_keys = jax.vmap(lambda k: jax.random.split(k, 2))(keys)\n",
    "#keys1, keys2 = split_keys[:, 0], split_keys[:, 1]\n",
    "fake_batch_obs = jnp.zeros(shape=(config.no_agents, env.observation_size))\n",
    "init_params = jax.vmap(policy_network.init)(keys, fake_batch_obs)\n",
    "\n",
    "param_count = sum(x[0].size for x in jax.tree_util.tree_leaves(init_params))\n",
    "print(\"Number of parameters in policy_network: \", param_count)\n",
    "\n",
    "# Define the fonction to play a step with the policy in the environment\n",
    "def play_step_fn(env_state, policy_params, random_key):\n",
    "    #random_key, subkey = jax.random.split(random_key)\n",
    "    actions = policy_network.apply(policy_params, env_state.obs)\n",
    "    state_desc = env_state.info[\"state_descriptor\"]\n",
    "    next_state = env.step(env_state, actions)\n",
    "\n",
    "    transition = QDTransition(\n",
    "        obs=env_state.obs,\n",
    "        next_obs=next_state.obs,\n",
    "        rewards=next_state.reward,\n",
    "        dones=next_state.done,\n",
    "        truncations=next_state.info[\"truncation\"],\n",
    "        actions=actions,\n",
    "        state_desc=state_desc,\n",
    "        next_state_desc=next_state.info[\"state_descriptor\"],\n",
    "        #desc=jnp.zeros(env.behavior_descriptor_length,) * jnp.nan,\n",
    "        #desc_prime=jnp.zeros(env.behavior_descriptor_length,) * jnp.nan,\n",
    "    )\n",
    "\n",
    "    return next_state, policy_params, random_key, transition\n",
    "\n",
    "# Prepare the scoring function\n",
    "bd_extraction_fn = behavior_descriptor_extractor['ant_uni']\n",
    "scoring_fn = partial(\n",
    "    scoring_function,\n",
    "    episode_length=env.episode_length,\n",
    "    play_reset_fn=reset_fn,\n",
    "    play_step_fn=play_step_fn,\n",
    "    behavior_descriptor_extractor=bd_extraction_fn,\n",
    ")\n",
    "#reward_offset = get_reward_offset_brax(env, config.env_name)\n",
    "#print(f\"Reward offset: {reward_offset}\")\n",
    "\n",
    "me_scoring_fn = partial(\n",
    "sampling,\n",
    "scoring_fn=scoring_fn,\n",
    "num_samples=config.num_samples,\n",
    ")\n",
    "\n",
    "reward_offset = 0\n",
    "\n",
    "metrics_function = partial(\n",
    "    default_qd_metrics,\n",
    "    qd_offset=reward_offset * env.episode_length,\n",
    ")\n",
    "\n",
    "# Define the PG-emitter config\n",
    "\n",
    "me_mcpg_config = MEMCPGConfig(\n",
    "    proportion_mutation_ga=config.proportion_mutation_ga,\n",
    "    no_agents=config.no_agents,\n",
    "    batch_size=config.batch_size,\n",
    "    mini_batch_size=config.mini_batch_size,\n",
    "    no_epochs=config.no_epochs,\n",
    "    buffer_size=config.buffer_size,\n",
    "    learning_rate=config.learning_rate,\n",
    "    adam_optimizer=config.adam_optimizer,\n",
    "    clip_param=config.clip_param,\n",
    ")\n",
    "\n",
    "variation_fn = partial(\n",
    "    isoline_variation, iso_sigma=config.iso_sigma, line_sigma=config.line_sigma\n",
    ")\n",
    "\n",
    "me_mcpg_emitter = MEMCPGEmitter(\n",
    "    config=me_mcpg_config,\n",
    "    policy_network=policy_network,\n",
    "    env=env,\n",
    "    variation_fn=variation_fn,\n",
    "    )\n",
    "\n",
    "'''\n",
    "rein_emitter = REINaiveEmitter(\n",
    "    config=rein_emitter_config,\n",
    "    policy_network=policy_network,\n",
    "    env=env,\n",
    "    )\n",
    "'''\n",
    "'''\n",
    "me_scoring_fn = partial(\n",
    "    sampling,\n",
    "    scoring_fn=scoring_fn,\n",
    "    num_samples=config.num_samples,\n",
    ")\n",
    "'''\n",
    "\n",
    "# Instantiate MAP Elites\n",
    "map_elites = MAPElites(\n",
    "    scoring_function=scoring_fn,\n",
    "    emitter=me_mcpg_emitter,\n",
    "    metrics_function=metrics_function,\n",
    ")\n"
   ]
  },
  {
   "cell_type": "code",
   "execution_count": 9,
   "metadata": {},
   "outputs": [],
   "source": [
    "fitnesses, descriptors, extra_scores, random_key = scoring_fn(\n",
    "    init_params, random_key\n",
    ")"
   ]
  },
  {
   "cell_type": "code",
   "execution_count": 10,
   "metadata": {},
   "outputs": [
    {
     "name": "stderr",
     "output_type": "stream",
     "text": [
      "/tmp/ipykernel_2388985/2620581087.py:1: UserWarning: This type of repertoire does not store the extra scores computed by the scoring function\n",
      "  repertoire = MapElitesRepertoire.init(\n"
     ]
    }
   ],
   "source": [
    "\n",
    "repertoire = MapElitesRepertoire.init(\n",
    "    genotypes=init_params,\n",
    "    fitnesses=fitnesses,\n",
    "    descriptors=descriptors,\n",
    "    centroids=centroids,\n",
    "    extra_scores=extra_scores,\n",
    ")"
   ]
  },
  {
   "cell_type": "code",
   "execution_count": 11,
   "metadata": {},
   "outputs": [],
   "source": [
    "emitter_state, random_key = me_mcpg_emitter.init(\n",
    "    random_key=random_key,\n",
    "    repertoire=repertoire,\n",
    "    genotypes=init_params,\n",
    "    fitnesses=fitnesses,\n",
    "    descriptors=descriptors,\n",
    "    extra_scores=extra_scores,\n",
    ")"
   ]
  },
  {
   "cell_type": "code",
   "execution_count": 12,
   "metadata": {},
   "outputs": [],
   "source": [
    "emitter_state = me_mcpg_emitter.state_update(\n",
    "    emitter_state=emitter_state,\n",
    "    repertoire=repertoire,\n",
    "    genotypes=init_params,\n",
    "    fitnesses=fitnesses,\n",
    "    descriptors=descriptors,\n",
    "    extra_scores={**extra_scores}#, **extra_info},\n",
    ")"
   ]
  },
  {
   "cell_type": "code",
   "execution_count": 13,
   "metadata": {},
   "outputs": [
    {
     "name": "stderr",
     "output_type": "stream",
     "text": [
      "/vol/bitbucket/km2120/QD-DRL/me-with-sample-based-drl/qdax/core/map_elites.py:82: UserWarning: This type of repertoire does not store the extra scores computed by the scoring function\n",
      "  repertoire = MapElitesRepertoire.init(\n"
     ]
    }
   ],
   "source": [
    "repertoire, emitter_state, random_key = map_elites.init(init_params, centroids, random_key)"
   ]
  },
  {
   "cell_type": "code",
   "execution_count": 14,
   "metadata": {},
   "outputs": [],
   "source": [
    "emitter = me_mcpg_emitter.emitters[0]"
   ]
  },
  {
   "cell_type": "code",
   "execution_count": 15,
   "metadata": {},
   "outputs": [],
   "source": [
    "buffer = emitter._buffer"
   ]
  },
  {
   "cell_type": "code",
   "execution_count": 16,
   "metadata": {},
   "outputs": [
    {
     "data": {
      "text/plain": [
       "TrajectoryBuffer(init=functools.partial(<function init at 0x79daa2f177f0>, add_batch_size=64, max_length_time_axis=1000), add=functools.partial(<function add at 0x79daa2f452d0>), sample=functools.partial(<function sample at 0x79daa2f455a0>, batch_size=64, sequence_length=1000, period=1000), can_sample=functools.partial(<function can_sample at 0x79daa2f45630>, min_length_time_axis=1000))"
      ]
     },
     "execution_count": 16,
     "metadata": {},
     "output_type": "execute_result"
    }
   ],
   "source": [
    "buffer"
   ]
  },
  {
   "cell_type": "code",
   "execution_count": 16,
   "metadata": {},
   "outputs": [],
   "source": [
    "buffer_state = emitter_state.emitter_states[0].buffer_state"
   ]
  },
  {
   "cell_type": "code",
   "execution_count": 17,
   "metadata": {},
   "outputs": [
    {
     "data": {
      "text/plain": [
       "Array([ 0.5290031 ,  1.        ,  0.        ,  0.        ,  0.        ,\n",
       "       -0.03629085,  0.81704986, -0.05197861, -0.8097921 ,  0.00165272,\n",
       "       -0.91692144,  0.01418419,  0.7871757 ,  0.        ,  0.        ,\n",
       "        0.        ,  0.        ,  0.        ,  0.        , -0.08168617,\n",
       "       -0.06450727, -0.08687162,  0.02566254, -0.08559051,  0.0939841 ,\n",
       "        0.045632  ,  0.03564072,  1.        ], dtype=float32)"
      ]
     },
     "execution_count": 17,
     "metadata": {},
     "output_type": "execute_result"
    }
   ],
   "source": [
    "buffer_state.experience.obs[0][0][:]"
   ]
  },
  {
   "cell_type": "code",
   "execution_count": 18,
   "metadata": {},
   "outputs": [
    {
     "data": {
      "text/plain": [
       "Array([ 4.98008877e-01,  9.99349773e-01, -3.56806740e-02, -5.19142998e-03,\n",
       "       -3.93481110e-04,  4.40969393e-02,  7.58652568e-01, -1.28756398e-02,\n",
       "       -7.34257400e-01, -3.35761197e-02, -9.11176920e-01, -8.13868940e-02,\n",
       "        9.62469995e-01,  1.61133230e-01, -4.71483134e-02,  1.97709322e-01,\n",
       "        1.09147727e-02,  2.21215472e-01, -1.43821780e-02,  5.36329113e-02,\n",
       "        1.73439249e-01, -1.05735414e-01,  5.38548417e-02,  7.56153017e-02,\n",
       "        9.68139153e-03, -1.33329168e-01,  1.84919506e-01,  9.96000051e-01],      dtype=float32)"
      ]
     },
     "execution_count": 18,
     "metadata": {},
     "output_type": "execute_result"
    }
   ],
   "source": [
    "buffer_state.experience.obs[2][4][:]"
   ]
  },
  {
   "cell_type": "code",
   "execution_count": 19,
   "metadata": {},
   "outputs": [
    {
     "data": {
      "text/plain": [
       "Array([-0.002731  ,  0.00471119, -0.00401392, -0.00211869,  0.00360038,\n",
       "        0.00064279, -0.00639079,  0.00423873], dtype=float32)"
      ]
     },
     "execution_count": 19,
     "metadata": {},
     "output_type": "execute_result"
    }
   ],
   "source": [
    "buffer_state.experience.actions[0][0][:]"
   ]
  },
  {
   "cell_type": "code",
   "execution_count": 20,
   "metadata": {},
   "outputs": [
    {
     "data": {
      "text/plain": [
       "Array([ 3.0507769e-03,  9.6688431e-04, -3.4789811e-03, -4.6893256e-06,\n",
       "       -6.8702502e-04,  1.1279928e-03,  3.0877090e-03,  8.3098169e-03],      dtype=float32)"
      ]
     },
     "execution_count": 20,
     "metadata": {},
     "output_type": "execute_result"
    }
   ],
   "source": [
    "buffer_state.experience.actions[2][4][:]"
   ]
  },
  {
   "cell_type": "code",
   "execution_count": 21,
   "metadata": {},
   "outputs": [],
   "source": [
    "batch = buffer.sample(buffer_state, random_key)"
   ]
  },
  {
   "cell_type": "code",
   "execution_count": 22,
   "metadata": {},
   "outputs": [],
   "source": [
    "trans = batch.experience"
   ]
  },
  {
   "cell_type": "code",
   "execution_count": 23,
   "metadata": {},
   "outputs": [
    {
     "data": {
      "text/plain": [
       "Array([ 0.5291505 ,  1.        ,  0.        ,  0.        ,  0.        ,\n",
       "       -0.02182825,  0.847605  , -0.01074276, -0.8526422 , -0.06634107,\n",
       "       -0.91735   , -0.09717821,  0.91673166,  0.        ,  0.        ,\n",
       "        0.        ,  0.        ,  0.        ,  0.        ,  0.04825523,\n",
       "        0.00142464, -0.08119813,  0.08092397, -0.08638358, -0.02924797,\n",
       "       -0.09949973,  0.06462932,  1.        ], dtype=float32)"
      ]
     },
     "execution_count": 23,
     "metadata": {},
     "output_type": "execute_result"
    }
   ],
   "source": [
    "trans.obs[0][0][:]"
   ]
  },
  {
   "cell_type": "code",
   "execution_count": 24,
   "metadata": {},
   "outputs": [
    {
     "data": {
      "text/plain": [
       "Array([ 5.3121257e-01,  9.9999011e-01,  1.7877686e-03, -3.5283160e-03,\n",
       "       -2.0204734e-03,  8.3804600e-02,  9.6697682e-01,  8.0522284e-02,\n",
       "       -8.5231072e-01,  4.2598136e-02, -9.2366564e-01,  8.9302110e-03,\n",
       "        8.8921934e-01,  2.9175675e-02,  6.4497255e-02,  1.8257830e-01,\n",
       "       -7.8799352e-02,  4.0022347e-02, -1.8428907e-02,  1.6422386e-04,\n",
       "       -1.3612559e-01,  4.1865464e-02,  5.3015087e-02, -6.9273517e-02,\n",
       "        1.8536733e-01,  8.5005034e-03, -4.6814773e-02,  9.9600005e-01],      dtype=float32)"
      ]
     },
     "execution_count": 24,
     "metadata": {},
     "output_type": "execute_result"
    }
   ],
   "source": [
    "trans.obs[2][4][:]"
   ]
  },
  {
   "cell_type": "code",
   "execution_count": 25,
   "metadata": {},
   "outputs": [
    {
     "data": {
      "text/plain": [
       "Array([-0.00435192, -0.00528283,  0.00254858, -0.00021622, -0.00222638,\n",
       "        0.00776927, -0.00214178,  0.00236052], dtype=float32)"
      ]
     },
     "execution_count": 25,
     "metadata": {},
     "output_type": "execute_result"
    }
   ],
   "source": [
    "trans.actions[0][0][:]"
   ]
  },
  {
   "cell_type": "code",
   "execution_count": 26,
   "metadata": {},
   "outputs": [
    {
     "data": {
      "text/plain": [
       "Array([-0.00428008,  0.00254722, -0.0030441 ,  0.00269318,  0.00718779,\n",
       "       -0.00362687, -0.0017461 , -0.00067989], dtype=float32)"
      ]
     },
     "execution_count": 26,
     "metadata": {},
     "output_type": "execute_result"
    }
   ],
   "source": [
    "trans.actions[2][4][:]"
   ]
  },
  {
   "cell_type": "code",
   "execution_count": 28,
   "metadata": {},
   "outputs": [],
   "source": [
    "new_genotypes, _, random_key = me_mcpg_emitter.emit(repertoire, emitter_state, random_key)"
   ]
  },
  {
   "cell_type": "code",
   "execution_count": 29,
   "metadata": {},
   "outputs": [],
   "source": [
    "fitnesses, descriptors, extra_scores, random_key = scoring_fn(\n",
    "    new_genotypes, random_key\n",
    ")"
   ]
  },
  {
   "cell_type": "code",
   "execution_count": 30,
   "metadata": {},
   "outputs": [],
   "source": [
    "emitter_state = me_mcpg_emitter.state_update(\n",
    "    emitter_state=emitter_state,\n",
    "    repertoire=repertoire,\n",
    "    genotypes=init_params,\n",
    "    fitnesses=fitnesses,\n",
    "    descriptors=descriptors,\n",
    "    extra_scores={**extra_scores}#, **extra_info},\n",
    ")"
   ]
  },
  {
   "cell_type": "code",
   "execution_count": 31,
   "metadata": {},
   "outputs": [],
   "source": [
    "buffer_state = emitter_state.emitter_states[0].buffer_state"
   ]
  },
  {
   "cell_type": "code",
   "execution_count": 32,
   "metadata": {},
   "outputs": [
    {
     "data": {
      "text/plain": [
       "Array([ 0.541036  ,  1.        ,  0.        ,  0.        ,  0.        ,\n",
       "       -0.06537589,  0.8383412 , -0.02807844, -0.9527363 , -0.05029454,\n",
       "       -0.95151484, -0.04050948,  0.8234748 ,  0.        ,  0.        ,\n",
       "        0.        ,  0.        ,  0.        ,  0.        , -0.08284527,\n",
       "        0.0715866 , -0.00264992,  0.07823871, -0.01610541,  0.06063195,\n",
       "        0.08534649,  0.06462934,  1.        ], dtype=float32)"
      ]
     },
     "execution_count": 32,
     "metadata": {},
     "output_type": "execute_result"
    }
   ],
   "source": [
    "buffer_state.experience.obs[0][0][:]"
   ]
  },
  {
   "cell_type": "code",
   "execution_count": 33,
   "metadata": {},
   "outputs": [
    {
     "data": {
      "text/plain": [
       "Array([ 0.50336933,  0.99352807, -0.03358008,  0.05137687, -0.09557562,\n",
       "       -0.0974462 ,  0.53065926,  0.21062675, -0.95509666,  0.41207787,\n",
       "       -1.1381879 ,  0.34035403,  0.7715985 , -0.12753744,  0.06876729,\n",
       "       -0.02821796, -0.5192963 ,  0.559862  , -0.8220054 ,  1.7768593 ,\n",
       "       -0.19251561, -1.3835865 ,  0.26395983, -1.6554354 ,  1.644803  ,\n",
       "       -1.2617568 ,  0.3183149 ,  0.99600005], dtype=float32)"
      ]
     },
     "execution_count": 33,
     "metadata": {},
     "output_type": "execute_result"
    }
   ],
   "source": [
    "buffer_state.experience.obs[2][4][:]"
   ]
  },
  {
   "cell_type": "code",
   "execution_count": 34,
   "metadata": {},
   "outputs": [],
   "source": [
    "batch = buffer.sample(buffer_state, random_key)"
   ]
  },
  {
   "cell_type": "code",
   "execution_count": 35,
   "metadata": {},
   "outputs": [],
   "source": [
    "trans = batch.experience"
   ]
  },
  {
   "cell_type": "code",
   "execution_count": 36,
   "metadata": {},
   "outputs": [
    {
     "data": {
      "text/plain": [
       "Array([ 0.54057497,  1.        ,  0.        ,  0.        ,  0.        ,\n",
       "       -0.09035441,  0.94714147, -0.02431593, -0.8130315 , -0.03586044,\n",
       "       -0.8318781 ,  0.0333339 ,  0.9513314 ,  0.        ,  0.        ,\n",
       "        0.        ,  0.        ,  0.        ,  0.        , -0.08577353,\n",
       "       -0.03481684, -0.03581014, -0.07189173,  0.00718719,  0.09306866,\n",
       "       -0.08394337, -0.05480371,  1.        ], dtype=float32)"
      ]
     },
     "execution_count": 36,
     "metadata": {},
     "output_type": "execute_result"
    }
   ],
   "source": [
    "trans.obs[0][0][:]"
   ]
  },
  {
   "cell_type": "code",
   "execution_count": 37,
   "metadata": {},
   "outputs": [
    {
     "data": {
      "text/plain": [
       "Array([ 4.9661317e-01,  9.9974120e-01, -7.0252432e-04, -2.2742180e-02,\n",
       "       -1.7487181e-04, -1.4617446e-02,  8.6953437e-01,  4.7205113e-02,\n",
       "       -7.7981186e-01,  9.1657862e-02, -7.9237008e-01,  3.9201371e-02,\n",
       "        8.8778913e-01,  7.7902801e-02,  4.2957343e-02,  2.5344259e-01,\n",
       "       -1.4647022e-01,  1.9517195e-01, -5.8037054e-02,  2.5176302e-01,\n",
       "        6.7438555e-01,  1.9923742e-01,  1.8061393e-01, -2.0841539e-01,\n",
       "        3.6137107e-01, -4.1610140e-01, -1.7057478e-02,  9.9600005e-01],      dtype=float32)"
      ]
     },
     "execution_count": 37,
     "metadata": {},
     "output_type": "execute_result"
    }
   ],
   "source": [
    "trans.obs[2][4][:]"
   ]
  },
  {
   "cell_type": "code",
   "execution_count": 38,
   "metadata": {},
   "outputs": [
    {
     "data": {
      "text/plain": [
       "Array([ 0.00846978, -0.01904888,  0.01534687, -0.01836575,  0.03139308,\n",
       "        0.01971916,  0.00268593,  0.00334678], dtype=float32)"
      ]
     },
     "execution_count": 38,
     "metadata": {},
     "output_type": "execute_result"
    }
   ],
   "source": [
    "trans.actions[0][0][:]"
   ]
  },
  {
   "cell_type": "code",
   "execution_count": 39,
   "metadata": {},
   "outputs": [
    {
     "data": {
      "text/plain": [
       "Array([-0.02622877, -0.01858241,  0.0061986 ,  0.00380347, -0.00801598,\n",
       "        0.00849342,  0.03925945,  0.00011326], dtype=float32)"
      ]
     },
     "execution_count": 39,
     "metadata": {},
     "output_type": "execute_result"
    }
   ],
   "source": [
    "trans.actions[2][4][:]"
   ]
  },
  {
   "cell_type": "code",
   "execution_count": 40,
   "metadata": {},
   "outputs": [
    {
     "data": {
      "text/plain": [
       "(64, 1000, 28)"
      ]
     },
     "execution_count": 40,
     "metadata": {},
     "output_type": "execute_result"
    }
   ],
   "source": [
    "trans.obs.shape"
   ]
  },
  {
   "cell_type": "code",
   "execution_count": null,
   "metadata": {},
   "outputs": [
    {
     "data": {
      "text/plain": [
       "(64, 1000, 8)"
      ]
     },
     "execution_count": 22,
     "metadata": {},
     "output_type": "execute_result"
    }
   ],
   "source": [
    "trans.actions.shape"
   ]
  },
  {
   "cell_type": "code",
   "execution_count": null,
   "metadata": {},
   "outputs": [
    {
     "data": {
      "text/plain": [
       "(64, 1000)"
      ]
     },
     "execution_count": 23,
     "metadata": {},
     "output_type": "execute_result"
    }
   ],
   "source": [
    "trans.rewards.shape"
   ]
  },
  {
   "cell_type": "code",
   "execution_count": null,
   "metadata": {},
   "outputs": [
    {
     "data": {
      "text/plain": [
       "(64, 1000)"
      ]
     },
     "execution_count": 24,
     "metadata": {},
     "output_type": "execute_result"
    }
   ],
   "source": [
    "trans.dones.shape"
   ]
  },
  {
   "cell_type": "code",
   "execution_count": null,
   "metadata": {},
   "outputs": [],
   "source": [
    "obs = trans.obs\n",
    "actions = trans.actions\n",
    "rewards = trans.rewards\n",
    "dones = trans.dones"
   ]
  },
  {
   "cell_type": "code",
   "execution_count": null,
   "metadata": {},
   "outputs": [],
   "source": [
    "mask = jax.vmap(emitter.compute_mask, in_axes=0)(dones)"
   ]
  },
  {
   "cell_type": "code",
   "execution_count": null,
   "metadata": {},
   "outputs": [
    {
     "data": {
      "text/plain": [
       "(64, 1000)"
      ]
     },
     "execution_count": 27,
     "metadata": {},
     "output_type": "execute_result"
    }
   ],
   "source": [
    "mask.shape"
   ]
  },
  {
   "cell_type": "code",
   "execution_count": null,
   "metadata": {},
   "outputs": [],
   "source": [
    "returns = jax.vmap(emitter.get_return)(rewards *mask)"
   ]
  },
  {
   "cell_type": "code",
   "execution_count": null,
   "metadata": {},
   "outputs": [
    {
     "data": {
      "text/plain": [
       "Array([[ 98.876976  ,  98.86738   ,  98.86858   , ...,   1.975918  ,\n",
       "          0.99457633,   0.        ],\n",
       "       [100.559685  , 100.56604   , 100.56904   , ...,   1.9825337 ,\n",
       "          0.9975025 ,   0.        ],\n",
       "       [ 99.55968   ,  99.55858   ,  99.632225  , ...,   1.9780444 ,\n",
       "          0.9920622 ,   0.        ],\n",
       "       ...,\n",
       "       [100.4241    , 100.42156   , 100.34936   , ...,   1.978764  ,\n",
       "          0.99755573,   0.        ],\n",
       "       [ 99.32288   ,  99.314575  ,  99.198715  , ...,   1.9770596 ,\n",
       "          0.99299014,   0.        ],\n",
       "       [ 99.32288   ,  99.314575  ,  99.198715  , ...,   1.9770596 ,\n",
       "          0.99299014,   0.        ]], dtype=float32)"
      ]
     },
     "execution_count": 35,
     "metadata": {},
     "output_type": "execute_result"
    }
   ],
   "source": [
    "returns"
   ]
  },
  {
   "cell_type": "code",
   "execution_count": null,
   "metadata": {},
   "outputs": [
    {
     "data": {
      "text/plain": [
       "(64, 1000)"
      ]
     },
     "execution_count": 28,
     "metadata": {},
     "output_type": "execute_result"
    }
   ],
   "source": [
    "rewards.shape"
   ]
  },
  {
   "cell_type": "code",
   "execution_count": null,
   "metadata": {},
   "outputs": [],
   "source": [
    "returns = emitter.get_standardized_return(rewards, mask)"
   ]
  },
  {
   "cell_type": "code",
   "execution_count": null,
   "metadata": {},
   "outputs": [
    {
     "data": {
      "text/plain": [
       "Array([[-6.2009430e-01, -6.2589264e-01, -6.2570190e-01, ...,\n",
       "        -2.6960373e-03, -2.7143955e-04,  0.0000000e+00],\n",
       "       [ 1.0626144e+00,  1.0727692e+00,  1.0747528e+00, ...,\n",
       "         3.9196014e-03,  2.6547313e-03,  0.0000000e+00],\n",
       "       [ 6.2606812e-02,  6.5307617e-02,  1.3793945e-01, ...,\n",
       "        -5.6970119e-04, -2.7855635e-03,  0.0000000e+00],\n",
       "       ...,\n",
       "       [ 9.2703247e-01,  9.2829132e-01,  8.5507202e-01, ...,\n",
       "         1.4996529e-04,  2.7079582e-03,  0.0000000e+00],\n",
       "       [-1.7418671e-01, -1.7869568e-01, -2.9557037e-01, ...,\n",
       "        -1.5544891e-03, -1.8576384e-03,  0.0000000e+00],\n",
       "       [-1.7418671e-01, -1.7869568e-01, -2.9557037e-01, ...,\n",
       "        -1.5544891e-03, -1.8576384e-03,  0.0000000e+00]], dtype=float32)"
      ]
     },
     "execution_count": 31,
     "metadata": {},
     "output_type": "execute_result"
    }
   ],
   "source": [
    "returns"
   ]
  },
  {
   "cell_type": "code",
   "execution_count": null,
   "metadata": {},
   "outputs": [],
   "source": [
    "trans, random_key = buffer.sample(\n",
    "    random_key=random_key,\n",
    "    sample_size=64,\n",
    "    episodic_data_size=64,\n",
    "    sample_traj=True,\n",
    ")"
   ]
  },
  {
   "cell_type": "code",
   "execution_count": null,
   "metadata": {},
   "outputs": [
    {
     "data": {
      "text/plain": [
       "(64000, 28)"
      ]
     },
     "execution_count": 20,
     "metadata": {},
     "output_type": "execute_result"
    }
   ],
   "source": [
    "trans.obs.shape"
   ]
  },
  {
   "cell_type": "code",
   "execution_count": null,
   "metadata": {},
   "outputs": [],
   "source": [
    "obs = trans.obs.reshape(64, 1000, -1)"
   ]
  },
  {
   "cell_type": "code",
   "execution_count": null,
   "metadata": {},
   "outputs": [
    {
     "data": {
      "text/plain": [
       "(64, 1000, 28)"
      ]
     },
     "execution_count": 22,
     "metadata": {},
     "output_type": "execute_result"
    }
   ],
   "source": [
    "obs.shape"
   ]
  },
  {
   "cell_type": "code",
   "execution_count": null,
   "metadata": {},
   "outputs": [],
   "source": [
    "actions = trans.actions.reshape(64, 1000, -1)"
   ]
  },
  {
   "cell_type": "code",
   "execution_count": null,
   "metadata": {},
   "outputs": [],
   "source": [
    "rewards = trans.rewards.reshape(64, 1000, -1)"
   ]
  },
  {
   "cell_type": "code",
   "execution_count": null,
   "metadata": {},
   "outputs": [],
   "source": [
    "dones = trans.dones.reshape(64, 1000, -1)"
   ]
  },
  {
   "cell_type": "code",
   "execution_count": null,
   "metadata": {},
   "outputs": [
    {
     "data": {
      "text/plain": [
       "Array([[[0.],\n",
       "        [0.],\n",
       "        [0.],\n",
       "        ...,\n",
       "        [0.],\n",
       "        [0.],\n",
       "        [1.]],\n",
       "\n",
       "       [[0.],\n",
       "        [0.],\n",
       "        [0.],\n",
       "        ...,\n",
       "        [0.],\n",
       "        [0.],\n",
       "        [1.]],\n",
       "\n",
       "       [[0.],\n",
       "        [0.],\n",
       "        [0.],\n",
       "        ...,\n",
       "        [0.],\n",
       "        [0.],\n",
       "        [1.]],\n",
       "\n",
       "       ...,\n",
       "\n",
       "       [[0.],\n",
       "        [0.],\n",
       "        [0.],\n",
       "        ...,\n",
       "        [0.],\n",
       "        [0.],\n",
       "        [1.]],\n",
       "\n",
       "       [[0.],\n",
       "        [0.],\n",
       "        [0.],\n",
       "        ...,\n",
       "        [0.],\n",
       "        [0.],\n",
       "        [1.]],\n",
       "\n",
       "       [[0.],\n",
       "        [0.],\n",
       "        [0.],\n",
       "        ...,\n",
       "        [0.],\n",
       "        [0.],\n",
       "        [1.]]], dtype=float32)"
      ]
     },
     "execution_count": 38,
     "metadata": {},
     "output_type": "execute_result"
    }
   ],
   "source": [
    "dones"
   ]
  },
  {
   "cell_type": "code",
   "execution_count": null,
   "metadata": {},
   "outputs": [],
   "source": [
    "mask = jax.vmap(me_mcpg_emitter.emitters[0].compute_mask, in_axes=0)(dones)"
   ]
  },
  {
   "cell_type": "code",
   "execution_count": null,
   "metadata": {},
   "outputs": [
    {
     "data": {
      "text/plain": [
       "(64, 1000)"
      ]
     },
     "execution_count": 43,
     "metadata": {},
     "output_type": "execute_result"
    }
   ],
   "source": [
    "mask.shape"
   ]
  },
  {
   "cell_type": "code",
   "execution_count": null,
   "metadata": {},
   "outputs": [
    {
     "data": {
      "text/plain": [
       "{'params': {'hidden_layers_0': {'bias': Array([[0., 0., 0., ..., 0., 0., 0.],\n",
       "          [0., 0., 0., ..., 0., 0., 0.],\n",
       "          [0., 0., 0., ..., 0., 0., 0.],\n",
       "          ...,\n",
       "          [0., 0., 0., ..., 0., 0., 0.],\n",
       "          [0., 0., 0., ..., 0., 0., 0.],\n",
       "          [0., 0., 0., ..., 0., 0., 0.]], dtype=float32),\n",
       "   'kernel': Array([[[ 8.90522450e-02, -3.81690421e-04,  1.66703574e-03, ...,\n",
       "            -7.17403442e-02,  1.57643072e-02, -6.27806410e-02],\n",
       "           [-2.31234238e-01, -8.34264830e-02, -2.93827336e-03, ...,\n",
       "             2.18603268e-01,  2.39269957e-01, -1.19056545e-01],\n",
       "           [-1.64635301e-01,  2.17456639e-01,  4.62460518e-02, ...,\n",
       "            -7.15165064e-02, -6.95979670e-02,  3.31199393e-02],\n",
       "           ...,\n",
       "           [-1.32311285e-01,  2.42075622e-01,  9.79097933e-03, ...,\n",
       "             3.13385651e-02,  5.16709909e-02, -8.71773344e-03],\n",
       "           [ 6.32021800e-02, -1.83664367e-01,  1.79741327e-02, ...,\n",
       "            -1.99814420e-02, -5.96128218e-02,  7.21886987e-03],\n",
       "           [-4.71535772e-02,  4.21276093e-02,  8.31770301e-02, ...,\n",
       "            -7.00307563e-02, -1.39602870e-01, -4.26672399e-02]],\n",
       "   \n",
       "          [[-2.70382147e-02,  4.32175137e-02, -1.98729336e-01, ...,\n",
       "             1.09056413e-01,  2.46791348e-01,  6.98597804e-02],\n",
       "           [ 1.66207641e-01, -2.80846357e-01,  1.02992229e-01, ...,\n",
       "             9.81265754e-02, -5.36312051e-02,  9.26399305e-02],\n",
       "           [-4.17003036e-02,  1.46260142e-01,  3.85444723e-02, ...,\n",
       "            -5.52841052e-02,  1.64809562e-02, -7.66226724e-02],\n",
       "           ...,\n",
       "           [-5.70155568e-02, -2.15458229e-01,  2.76391387e-01, ...,\n",
       "            -1.34567976e-01, -1.73887402e-01,  7.05187023e-02],\n",
       "           [-5.59319071e-02,  1.26021272e-02, -1.11350603e-02, ...,\n",
       "             2.58047223e-01,  2.77489569e-04,  2.23853543e-01],\n",
       "           [-2.00997621e-01,  1.28013387e-01, -1.85708284e-01, ...,\n",
       "            -1.44002020e-01, -2.14264229e-01,  1.08863451e-01]],\n",
       "   \n",
       "          [[-2.44385973e-02, -4.22022901e-02,  9.94457901e-02, ...,\n",
       "             1.51007682e-01, -2.12750938e-02, -8.21736902e-02],\n",
       "           [ 6.29136115e-02,  1.10018449e-02,  1.72789887e-01, ...,\n",
       "             2.13519976e-01, -2.03153327e-01, -1.85375568e-02],\n",
       "           [-1.68841302e-01,  1.17479235e-01,  6.63651004e-02, ...,\n",
       "            -3.80040705e-02,  5.58070205e-02, -2.03486815e-01],\n",
       "           ...,\n",
       "           [-2.63921320e-01,  6.63240105e-02,  2.70204425e-01, ...,\n",
       "            -2.06614196e-01,  4.97835577e-02,  2.24113882e-01],\n",
       "           [ 3.13814469e-02, -1.23368271e-01,  7.30356872e-02, ...,\n",
       "             3.50338183e-02,  8.44608918e-02, -1.49804389e-03],\n",
       "           [ 9.54644680e-02,  2.19299451e-01,  2.58156029e-03, ...,\n",
       "            -4.08545844e-02, -4.07121517e-02, -4.20916416e-02]],\n",
       "   \n",
       "          ...,\n",
       "   \n",
       "          [[ 2.21923217e-01,  1.48368524e-02,  1.91318896e-02, ...,\n",
       "            -3.16267192e-01, -8.40780437e-02, -4.64475006e-02],\n",
       "           [ 9.85755026e-02,  2.21278876e-01, -2.36251459e-01, ...,\n",
       "             1.71051510e-02,  2.02871487e-01,  1.12494519e-02],\n",
       "           [-7.06589257e-04, -3.32623045e-03,  7.26414397e-02, ...,\n",
       "             1.71559885e-01,  2.02014372e-01, -8.46817438e-03],\n",
       "           ...,\n",
       "           [-8.09257850e-02, -7.89673775e-02,  1.11578725e-01, ...,\n",
       "            -1.20219491e-01, -3.10123563e-02, -1.44401744e-01],\n",
       "           [ 3.60215344e-02, -1.18888259e-01,  1.54078826e-01, ...,\n",
       "            -5.58984056e-02,  1.30654931e-01,  9.55028683e-02],\n",
       "           [ 2.55593777e-01, -1.74877178e-02, -7.75883123e-02, ...,\n",
       "             2.03023195e-01, -1.63931381e-02, -1.40105009e-01]],\n",
       "   \n",
       "          [[ 1.85835570e-01, -1.96235757e-02, -3.16766202e-02, ...,\n",
       "             5.79222292e-02,  5.72525300e-02,  1.33112287e-02],\n",
       "           [ 1.01287484e-01,  3.02748382e-01,  1.71071753e-01, ...,\n",
       "            -7.83269182e-02, -1.20563306e-01,  2.35875398e-01],\n",
       "           [-1.31479666e-01, -1.18003957e-01,  2.49940589e-01, ...,\n",
       "            -1.55151011e-02,  5.54489829e-02, -1.45802423e-02],\n",
       "           ...,\n",
       "           [ 2.28440404e-01, -3.94443981e-02,  8.59039873e-02, ...,\n",
       "             7.73941278e-02,  1.08069763e-01,  2.39658859e-02],\n",
       "           [-2.80652270e-02,  1.01797484e-01,  5.66369668e-02, ...,\n",
       "            -1.17227696e-01,  2.00453512e-02, -2.17069089e-02],\n",
       "           [ 1.25140790e-02,  4.43297103e-02,  4.67502847e-02, ...,\n",
       "             4.31309342e-02, -3.06884162e-02,  1.62391379e-01]],\n",
       "   \n",
       "          [[ 2.38215663e-02,  1.01578467e-01, -3.11829541e-02, ...,\n",
       "            -1.44212451e-02,  8.43287483e-02,  1.54845640e-01],\n",
       "           [-9.44035724e-02,  3.42814028e-02,  1.71355709e-01, ...,\n",
       "            -5.18756220e-03,  5.32041043e-02, -6.84332550e-02],\n",
       "           [-8.96302760e-02,  3.03556789e-02, -5.09983599e-02, ...,\n",
       "            -8.37247744e-02,  1.66159701e-02, -8.89836699e-02],\n",
       "           ...,\n",
       "           [ 1.65975168e-01,  1.43294871e-01, -6.41212091e-02, ...,\n",
       "             6.40103891e-02,  1.58098683e-01, -2.62570292e-01],\n",
       "           [-2.70501494e-01,  3.89424711e-02,  1.45778388e-01, ...,\n",
       "             6.02399521e-02,  4.48980145e-02, -1.09868422e-01],\n",
       "           [ 5.46222739e-02,  7.81174526e-02, -8.17671344e-02, ...,\n",
       "             7.50008412e-03,  1.22337639e-01, -1.22734413e-01]]],      dtype=float32)},\n",
       "  'hidden_layers_1': {'bias': Array([[0., 0., 0., ..., 0., 0., 0.],\n",
       "          [0., 0., 0., ..., 0., 0., 0.],\n",
       "          [0., 0., 0., ..., 0., 0., 0.],\n",
       "          ...,\n",
       "          [0., 0., 0., ..., 0., 0., 0.],\n",
       "          [0., 0., 0., ..., 0., 0., 0.],\n",
       "          [0., 0., 0., ..., 0., 0., 0.]], dtype=float32),\n",
       "   'kernel': Array([[[-0.0051436 , -0.00121192, -0.1249591 , ..., -0.03907563,\n",
       "             0.07304244,  0.08181611],\n",
       "           [ 0.05005281,  0.13126332,  0.02442729, ..., -0.08084306,\n",
       "             0.10475109, -0.10494366],\n",
       "           [-0.12653993,  0.12618035,  0.09490003, ...,  0.01517825,\n",
       "            -0.07196803, -0.07852761],\n",
       "           ...,\n",
       "           [-0.28055286,  0.10256531,  0.06008925, ..., -0.03971413,\n",
       "            -0.07985181, -0.05741893],\n",
       "           [ 0.06774299,  0.09639955,  0.00094326, ...,  0.17859402,\n",
       "             0.19763568, -0.0983303 ],\n",
       "           [ 0.1943643 ,  0.05010331, -0.0173506 , ..., -0.00933597,\n",
       "             0.00344146, -0.23648006]],\n",
       "   \n",
       "          [[ 0.1472417 ,  0.1960969 ,  0.06670405, ...,  0.08482016,\n",
       "            -0.05973899, -0.08100378],\n",
       "           [-0.3562018 , -0.23438115,  0.3597426 , ..., -0.00234929,\n",
       "             0.00233106, -0.11795004],\n",
       "           [-0.02184895,  0.00664112,  0.06389833, ...,  0.29481548,\n",
       "             0.20455146,  0.11335754],\n",
       "           ...,\n",
       "           [ 0.07709607,  0.08096585, -0.13980775, ...,  0.13654247,\n",
       "            -0.05777551, -0.21836829],\n",
       "           [ 0.06669151, -0.15998667, -0.2127519 , ...,  0.1347766 ,\n",
       "             0.13949259,  0.0859341 ],\n",
       "           [ 0.02407802,  0.22180203, -0.17873882, ...,  0.18143636,\n",
       "             0.02792174,  0.13532223]],\n",
       "   \n",
       "          [[ 0.045086  , -0.07519364, -0.1830594 , ..., -0.02901591,\n",
       "            -0.20294663,  0.02876952],\n",
       "           [ 0.03439347,  0.02735246,  0.03047707, ...,  0.3455793 ,\n",
       "             0.0101057 , -0.03296255],\n",
       "           [-0.0433608 , -0.08635788,  0.14639337, ..., -0.08966108,\n",
       "            -0.11880179,  0.03566049],\n",
       "           ...,\n",
       "           [ 0.19940862,  0.03289766,  0.16579375, ...,  0.12845145,\n",
       "             0.01332605,  0.1205407 ],\n",
       "           [-0.19927773,  0.01745713, -0.0632523 , ...,  0.0125559 ,\n",
       "             0.18428683,  0.1821356 ],\n",
       "           [ 0.06430781, -0.03018956, -0.14497547, ...,  0.02747042,\n",
       "            -0.02509036, -0.02030568]],\n",
       "   \n",
       "          ...,\n",
       "   \n",
       "          [[ 0.08221249, -0.1804893 ,  0.14600265, ...,  0.11864413,\n",
       "            -0.0043567 , -0.17366731],\n",
       "           [ 0.03012272, -0.03819297,  0.04034135, ...,  0.0517011 ,\n",
       "            -0.1302274 ,  0.19601667],\n",
       "           [ 0.00588879, -0.1376432 , -0.0452406 , ..., -0.09549938,\n",
       "            -0.01062947,  0.08910552],\n",
       "           ...,\n",
       "           [ 0.14140847,  0.0014884 ,  0.02203658, ..., -0.21793537,\n",
       "            -0.04200197,  0.2354537 ],\n",
       "           [ 0.0101448 ,  0.10252003,  0.09060755, ...,  0.07875843,\n",
       "            -0.19664809,  0.14613777],\n",
       "           [-0.15001653, -0.2478004 ,  0.21694127, ...,  0.04400685,\n",
       "             0.07085515,  0.2873786 ]],\n",
       "   \n",
       "          [[-0.07003626, -0.04425869, -0.04550713, ...,  0.06439888,\n",
       "             0.14332366, -0.24005264],\n",
       "           [-0.15523563, -0.07783359,  0.07067992, ..., -0.13207911,\n",
       "            -0.22144254, -0.25960624],\n",
       "           [ 0.42764995,  0.06749879, -0.26782972, ...,  0.14722219,\n",
       "             0.17539965, -0.05053749],\n",
       "           ...,\n",
       "           [-0.1283635 , -0.08451051, -0.162934  , ...,  0.01785197,\n",
       "             0.00628634,  0.15600386],\n",
       "           [ 0.10854552,  0.06429251,  0.01580878, ..., -0.16901274,\n",
       "            -0.0042457 ,  0.09521572],\n",
       "           [ 0.13585785, -0.05811932, -0.0391898 , ...,  0.07386775,\n",
       "            -0.14918631,  0.16751114]],\n",
       "   \n",
       "          [[-0.06546164, -0.03323097, -0.12944359, ...,  0.12967744,\n",
       "            -0.01694715,  0.05250699],\n",
       "           [ 0.11528231, -0.20088537,  0.11415332, ...,  0.11268826,\n",
       "            -0.01351379, -0.11919069],\n",
       "           [ 0.13770375,  0.05947766, -0.04040467, ...,  0.09312692,\n",
       "             0.16267054, -0.08556456],\n",
       "           ...,\n",
       "           [-0.0689088 , -0.02632076, -0.22880329, ..., -0.07539616,\n",
       "             0.05314684, -0.07337374],\n",
       "           [-0.06702409,  0.15713055, -0.10124602, ..., -0.04673293,\n",
       "            -0.03591249, -0.27692813],\n",
       "           [-0.08867603, -0.09629093, -0.16273384, ...,  0.13010567,\n",
       "            -0.1535548 , -0.24437349]]], dtype=float32)},\n",
       "  'log_std': Array([[-0.6931472, -0.6931472, -0.6931472, -0.6931472, -0.6931472,\n",
       "          -0.6931472, -0.6931472, -0.6931472],\n",
       "         [-0.6931472, -0.6931472, -0.6931472, -0.6931472, -0.6931472,\n",
       "          -0.6931472, -0.6931472, -0.6931472],\n",
       "         [-0.6931472, -0.6931472, -0.6931472, -0.6931472, -0.6931472,\n",
       "          -0.6931472, -0.6931472, -0.6931472],\n",
       "         [-0.6931472, -0.6931472, -0.6931472, -0.6931472, -0.6931472,\n",
       "          -0.6931472, -0.6931472, -0.6931472],\n",
       "         [-0.6931472, -0.6931472, -0.6931472, -0.6931472, -0.6931472,\n",
       "          -0.6931472, -0.6931472, -0.6931472],\n",
       "         [-0.6931472, -0.6931472, -0.6931472, -0.6931472, -0.6931472,\n",
       "          -0.6931472, -0.6931472, -0.6931472],\n",
       "         [-0.6931472, -0.6931472, -0.6931472, -0.6931472, -0.6931472,\n",
       "          -0.6931472, -0.6931472, -0.6931472],\n",
       "         [-0.6931472, -0.6931472, -0.6931472, -0.6931472, -0.6931472,\n",
       "          -0.6931472, -0.6931472, -0.6931472],\n",
       "         [-0.6931472, -0.6931472, -0.6931472, -0.6931472, -0.6931472,\n",
       "          -0.6931472, -0.6931472, -0.6931472],\n",
       "         [-0.6931472, -0.6931472, -0.6931472, -0.6931472, -0.6931472,\n",
       "          -0.6931472, -0.6931472, -0.6931472],\n",
       "         [-0.6931472, -0.6931472, -0.6931472, -0.6931472, -0.6931472,\n",
       "          -0.6931472, -0.6931472, -0.6931472],\n",
       "         [-0.6931472, -0.6931472, -0.6931472, -0.6931472, -0.6931472,\n",
       "          -0.6931472, -0.6931472, -0.6931472],\n",
       "         [-0.6931472, -0.6931472, -0.6931472, -0.6931472, -0.6931472,\n",
       "          -0.6931472, -0.6931472, -0.6931472],\n",
       "         [-0.6931472, -0.6931472, -0.6931472, -0.6931472, -0.6931472,\n",
       "          -0.6931472, -0.6931472, -0.6931472],\n",
       "         [-0.6931472, -0.6931472, -0.6931472, -0.6931472, -0.6931472,\n",
       "          -0.6931472, -0.6931472, -0.6931472],\n",
       "         [-0.6931472, -0.6931472, -0.6931472, -0.6931472, -0.6931472,\n",
       "          -0.6931472, -0.6931472, -0.6931472],\n",
       "         [-0.6931472, -0.6931472, -0.6931472, -0.6931472, -0.6931472,\n",
       "          -0.6931472, -0.6931472, -0.6931472],\n",
       "         [-0.6931472, -0.6931472, -0.6931472, -0.6931472, -0.6931472,\n",
       "          -0.6931472, -0.6931472, -0.6931472],\n",
       "         [-0.6931472, -0.6931472, -0.6931472, -0.6931472, -0.6931472,\n",
       "          -0.6931472, -0.6931472, -0.6931472],\n",
       "         [-0.6931472, -0.6931472, -0.6931472, -0.6931472, -0.6931472,\n",
       "          -0.6931472, -0.6931472, -0.6931472],\n",
       "         [-0.6931472, -0.6931472, -0.6931472, -0.6931472, -0.6931472,\n",
       "          -0.6931472, -0.6931472, -0.6931472],\n",
       "         [-0.6931472, -0.6931472, -0.6931472, -0.6931472, -0.6931472,\n",
       "          -0.6931472, -0.6931472, -0.6931472],\n",
       "         [-0.6931472, -0.6931472, -0.6931472, -0.6931472, -0.6931472,\n",
       "          -0.6931472, -0.6931472, -0.6931472],\n",
       "         [-0.6931472, -0.6931472, -0.6931472, -0.6931472, -0.6931472,\n",
       "          -0.6931472, -0.6931472, -0.6931472],\n",
       "         [-0.6931472, -0.6931472, -0.6931472, -0.6931472, -0.6931472,\n",
       "          -0.6931472, -0.6931472, -0.6931472],\n",
       "         [-0.6931472, -0.6931472, -0.6931472, -0.6931472, -0.6931472,\n",
       "          -0.6931472, -0.6931472, -0.6931472],\n",
       "         [-0.6931472, -0.6931472, -0.6931472, -0.6931472, -0.6931472,\n",
       "          -0.6931472, -0.6931472, -0.6931472],\n",
       "         [-0.6931472, -0.6931472, -0.6931472, -0.6931472, -0.6931472,\n",
       "          -0.6931472, -0.6931472, -0.6931472],\n",
       "         [-0.6931472, -0.6931472, -0.6931472, -0.6931472, -0.6931472,\n",
       "          -0.6931472, -0.6931472, -0.6931472],\n",
       "         [-0.6931472, -0.6931472, -0.6931472, -0.6931472, -0.6931472,\n",
       "          -0.6931472, -0.6931472, -0.6931472],\n",
       "         [-0.6931472, -0.6931472, -0.6931472, -0.6931472, -0.6931472,\n",
       "          -0.6931472, -0.6931472, -0.6931472],\n",
       "         [-0.6931472, -0.6931472, -0.6931472, -0.6931472, -0.6931472,\n",
       "          -0.6931472, -0.6931472, -0.6931472],\n",
       "         [-0.6931472, -0.6931472, -0.6931472, -0.6931472, -0.6931472,\n",
       "          -0.6931472, -0.6931472, -0.6931472],\n",
       "         [-0.6931472, -0.6931472, -0.6931472, -0.6931472, -0.6931472,\n",
       "          -0.6931472, -0.6931472, -0.6931472],\n",
       "         [-0.6931472, -0.6931472, -0.6931472, -0.6931472, -0.6931472,\n",
       "          -0.6931472, -0.6931472, -0.6931472],\n",
       "         [-0.6931472, -0.6931472, -0.6931472, -0.6931472, -0.6931472,\n",
       "          -0.6931472, -0.6931472, -0.6931472],\n",
       "         [-0.6931472, -0.6931472, -0.6931472, -0.6931472, -0.6931472,\n",
       "          -0.6931472, -0.6931472, -0.6931472],\n",
       "         [-0.6931472, -0.6931472, -0.6931472, -0.6931472, -0.6931472,\n",
       "          -0.6931472, -0.6931472, -0.6931472],\n",
       "         [-0.6931472, -0.6931472, -0.6931472, -0.6931472, -0.6931472,\n",
       "          -0.6931472, -0.6931472, -0.6931472],\n",
       "         [-0.6931472, -0.6931472, -0.6931472, -0.6931472, -0.6931472,\n",
       "          -0.6931472, -0.6931472, -0.6931472],\n",
       "         [-0.6931472, -0.6931472, -0.6931472, -0.6931472, -0.6931472,\n",
       "          -0.6931472, -0.6931472, -0.6931472],\n",
       "         [-0.6931472, -0.6931472, -0.6931472, -0.6931472, -0.6931472,\n",
       "          -0.6931472, -0.6931472, -0.6931472],\n",
       "         [-0.6931472, -0.6931472, -0.6931472, -0.6931472, -0.6931472,\n",
       "          -0.6931472, -0.6931472, -0.6931472],\n",
       "         [-0.6931472, -0.6931472, -0.6931472, -0.6931472, -0.6931472,\n",
       "          -0.6931472, -0.6931472, -0.6931472],\n",
       "         [-0.6931472, -0.6931472, -0.6931472, -0.6931472, -0.6931472,\n",
       "          -0.6931472, -0.6931472, -0.6931472],\n",
       "         [-0.6931472, -0.6931472, -0.6931472, -0.6931472, -0.6931472,\n",
       "          -0.6931472, -0.6931472, -0.6931472],\n",
       "         [-0.6931472, -0.6931472, -0.6931472, -0.6931472, -0.6931472,\n",
       "          -0.6931472, -0.6931472, -0.6931472],\n",
       "         [-0.6931472, -0.6931472, -0.6931472, -0.6931472, -0.6931472,\n",
       "          -0.6931472, -0.6931472, -0.6931472],\n",
       "         [-0.6931472, -0.6931472, -0.6931472, -0.6931472, -0.6931472,\n",
       "          -0.6931472, -0.6931472, -0.6931472],\n",
       "         [-0.6931472, -0.6931472, -0.6931472, -0.6931472, -0.6931472,\n",
       "          -0.6931472, -0.6931472, -0.6931472],\n",
       "         [-0.6931472, -0.6931472, -0.6931472, -0.6931472, -0.6931472,\n",
       "          -0.6931472, -0.6931472, -0.6931472],\n",
       "         [-0.6931472, -0.6931472, -0.6931472, -0.6931472, -0.6931472,\n",
       "          -0.6931472, -0.6931472, -0.6931472],\n",
       "         [-0.6931472, -0.6931472, -0.6931472, -0.6931472, -0.6931472,\n",
       "          -0.6931472, -0.6931472, -0.6931472],\n",
       "         [-0.6931472, -0.6931472, -0.6931472, -0.6931472, -0.6931472,\n",
       "          -0.6931472, -0.6931472, -0.6931472],\n",
       "         [-0.6931472, -0.6931472, -0.6931472, -0.6931472, -0.6931472,\n",
       "          -0.6931472, -0.6931472, -0.6931472],\n",
       "         [-0.6931472, -0.6931472, -0.6931472, -0.6931472, -0.6931472,\n",
       "          -0.6931472, -0.6931472, -0.6931472],\n",
       "         [-0.6931472, -0.6931472, -0.6931472, -0.6931472, -0.6931472,\n",
       "          -0.6931472, -0.6931472, -0.6931472],\n",
       "         [-0.6931472, -0.6931472, -0.6931472, -0.6931472, -0.6931472,\n",
       "          -0.6931472, -0.6931472, -0.6931472],\n",
       "         [-0.6931472, -0.6931472, -0.6931472, -0.6931472, -0.6931472,\n",
       "          -0.6931472, -0.6931472, -0.6931472],\n",
       "         [-0.6931472, -0.6931472, -0.6931472, -0.6931472, -0.6931472,\n",
       "          -0.6931472, -0.6931472, -0.6931472],\n",
       "         [-0.6931472, -0.6931472, -0.6931472, -0.6931472, -0.6931472,\n",
       "          -0.6931472, -0.6931472, -0.6931472],\n",
       "         [-0.6931472, -0.6931472, -0.6931472, -0.6931472, -0.6931472,\n",
       "          -0.6931472, -0.6931472, -0.6931472],\n",
       "         [-0.6931472, -0.6931472, -0.6931472, -0.6931472, -0.6931472,\n",
       "          -0.6931472, -0.6931472, -0.6931472],\n",
       "         [-0.6931472, -0.6931472, -0.6931472, -0.6931472, -0.6931472,\n",
       "          -0.6931472, -0.6931472, -0.6931472]], dtype=float32),\n",
       "  'mean': {'bias': Array([[0., 0., 0., 0., 0., 0., 0., 0.],\n",
       "          [0., 0., 0., 0., 0., 0., 0., 0.],\n",
       "          [0., 0., 0., 0., 0., 0., 0., 0.],\n",
       "          [0., 0., 0., 0., 0., 0., 0., 0.],\n",
       "          [0., 0., 0., 0., 0., 0., 0., 0.],\n",
       "          [0., 0., 0., 0., 0., 0., 0., 0.],\n",
       "          [0., 0., 0., 0., 0., 0., 0., 0.],\n",
       "          [0., 0., 0., 0., 0., 0., 0., 0.],\n",
       "          [0., 0., 0., 0., 0., 0., 0., 0.],\n",
       "          [0., 0., 0., 0., 0., 0., 0., 0.],\n",
       "          [0., 0., 0., 0., 0., 0., 0., 0.],\n",
       "          [0., 0., 0., 0., 0., 0., 0., 0.],\n",
       "          [0., 0., 0., 0., 0., 0., 0., 0.],\n",
       "          [0., 0., 0., 0., 0., 0., 0., 0.],\n",
       "          [0., 0., 0., 0., 0., 0., 0., 0.],\n",
       "          [0., 0., 0., 0., 0., 0., 0., 0.],\n",
       "          [0., 0., 0., 0., 0., 0., 0., 0.],\n",
       "          [0., 0., 0., 0., 0., 0., 0., 0.],\n",
       "          [0., 0., 0., 0., 0., 0., 0., 0.],\n",
       "          [0., 0., 0., 0., 0., 0., 0., 0.],\n",
       "          [0., 0., 0., 0., 0., 0., 0., 0.],\n",
       "          [0., 0., 0., 0., 0., 0., 0., 0.],\n",
       "          [0., 0., 0., 0., 0., 0., 0., 0.],\n",
       "          [0., 0., 0., 0., 0., 0., 0., 0.],\n",
       "          [0., 0., 0., 0., 0., 0., 0., 0.],\n",
       "          [0., 0., 0., 0., 0., 0., 0., 0.],\n",
       "          [0., 0., 0., 0., 0., 0., 0., 0.],\n",
       "          [0., 0., 0., 0., 0., 0., 0., 0.],\n",
       "          [0., 0., 0., 0., 0., 0., 0., 0.],\n",
       "          [0., 0., 0., 0., 0., 0., 0., 0.],\n",
       "          [0., 0., 0., 0., 0., 0., 0., 0.],\n",
       "          [0., 0., 0., 0., 0., 0., 0., 0.],\n",
       "          [0., 0., 0., 0., 0., 0., 0., 0.],\n",
       "          [0., 0., 0., 0., 0., 0., 0., 0.],\n",
       "          [0., 0., 0., 0., 0., 0., 0., 0.],\n",
       "          [0., 0., 0., 0., 0., 0., 0., 0.],\n",
       "          [0., 0., 0., 0., 0., 0., 0., 0.],\n",
       "          [0., 0., 0., 0., 0., 0., 0., 0.],\n",
       "          [0., 0., 0., 0., 0., 0., 0., 0.],\n",
       "          [0., 0., 0., 0., 0., 0., 0., 0.],\n",
       "          [0., 0., 0., 0., 0., 0., 0., 0.],\n",
       "          [0., 0., 0., 0., 0., 0., 0., 0.],\n",
       "          [0., 0., 0., 0., 0., 0., 0., 0.],\n",
       "          [0., 0., 0., 0., 0., 0., 0., 0.],\n",
       "          [0., 0., 0., 0., 0., 0., 0., 0.],\n",
       "          [0., 0., 0., 0., 0., 0., 0., 0.],\n",
       "          [0., 0., 0., 0., 0., 0., 0., 0.],\n",
       "          [0., 0., 0., 0., 0., 0., 0., 0.],\n",
       "          [0., 0., 0., 0., 0., 0., 0., 0.],\n",
       "          [0., 0., 0., 0., 0., 0., 0., 0.],\n",
       "          [0., 0., 0., 0., 0., 0., 0., 0.],\n",
       "          [0., 0., 0., 0., 0., 0., 0., 0.],\n",
       "          [0., 0., 0., 0., 0., 0., 0., 0.],\n",
       "          [0., 0., 0., 0., 0., 0., 0., 0.],\n",
       "          [0., 0., 0., 0., 0., 0., 0., 0.],\n",
       "          [0., 0., 0., 0., 0., 0., 0., 0.],\n",
       "          [0., 0., 0., 0., 0., 0., 0., 0.],\n",
       "          [0., 0., 0., 0., 0., 0., 0., 0.],\n",
       "          [0., 0., 0., 0., 0., 0., 0., 0.],\n",
       "          [0., 0., 0., 0., 0., 0., 0., 0.],\n",
       "          [0., 0., 0., 0., 0., 0., 0., 0.],\n",
       "          [0., 0., 0., 0., 0., 0., 0., 0.],\n",
       "          [0., 0., 0., 0., 0., 0., 0., 0.],\n",
       "          [0., 0., 0., 0., 0., 0., 0., 0.]], dtype=float32),\n",
       "   'kernel': Array([[[ 3.89363762e-04,  1.47918402e-03,  7.15306145e-04, ...,\n",
       "             5.83296409e-04, -8.33923521e-04,  9.89599968e-04],\n",
       "           [ 4.26758692e-04,  1.11949439e-05, -1.63761688e-05, ...,\n",
       "            -8.58223590e-04,  1.00472791e-03,  1.02430023e-03],\n",
       "           [ 8.12225277e-04,  1.75568348e-04, -2.92098528e-04, ...,\n",
       "            -4.36910370e-04, -4.03725047e-04, -1.15284463e-03],\n",
       "           ...,\n",
       "           [ 2.88969517e-04,  4.19608987e-04, -1.44927891e-03, ...,\n",
       "             1.31507881e-03,  2.25067977e-03,  1.82214112e-03],\n",
       "           [-1.28876738e-04, -1.53128320e-04, -1.17769896e-03, ...,\n",
       "            -2.16707797e-03,  1.95272616e-03, -1.56216067e-03],\n",
       "           [-1.43588462e-03,  1.11765607e-04, -3.45367618e-04, ...,\n",
       "            -6.58355537e-04, -1.38561067e-03,  1.62751402e-03]],\n",
       "   \n",
       "          [[ 6.07153168e-04,  5.16032102e-04,  4.22299578e-04, ...,\n",
       "             7.13209796e-04,  3.74016236e-04, -3.58508347e-04],\n",
       "           [ 1.01358560e-03,  5.76734528e-05,  5.75611601e-04, ...,\n",
       "            -1.34023279e-03, -1.40870310e-04,  1.70237050e-04],\n",
       "           [ 2.54361017e-04, -3.03609209e-04,  5.29993733e-04, ...,\n",
       "            -1.04096148e-03,  6.30301249e-04,  4.98981681e-04],\n",
       "           ...,\n",
       "           [ 4.54684603e-04, -6.39178266e-04,  1.12024252e-03, ...,\n",
       "             8.09267571e-04, -1.10442561e-05,  1.18502991e-04],\n",
       "           [-3.76449752e-04, -3.73874675e-04,  7.39874027e-04, ...,\n",
       "            -1.06687490e-04, -1.58133171e-03, -1.16360444e-03],\n",
       "           [ 1.04133470e-03, -4.13834583e-04,  7.66148150e-05, ...,\n",
       "            -2.85744842e-04,  1.05862215e-03, -3.31005540e-05]],\n",
       "   \n",
       "          [[ 1.61881559e-03, -1.68857467e-03,  1.06168278e-04, ...,\n",
       "            -9.22338339e-04, -3.98271368e-04, -1.35222333e-03],\n",
       "           [ 3.98011645e-04,  4.60827345e-04,  1.24116102e-03, ...,\n",
       "             1.18080512e-04, -1.28656428e-03, -4.76987421e-04],\n",
       "           [-4.37838433e-04, -1.13415893e-03,  1.50327326e-03, ...,\n",
       "             5.84673311e-04,  1.30874396e-03, -1.79938448e-03],\n",
       "           ...,\n",
       "           [-1.42130803e-03, -8.59381689e-04, -3.15689656e-04, ...,\n",
       "             5.81519562e-04,  7.18076655e-04,  1.97531204e-04],\n",
       "           [ 1.19783857e-03, -1.01805187e-03, -1.14681968e-03, ...,\n",
       "            -4.16352210e-04,  5.79633379e-05, -7.72648724e-04],\n",
       "           [-7.13821733e-04,  2.81376968e-04, -1.04960706e-03, ...,\n",
       "            -9.65446350e-04, -9.87075851e-04, -1.36257790e-03]],\n",
       "   \n",
       "          ...,\n",
       "   \n",
       "          [[ 2.62594222e-05,  2.98617437e-04, -2.25135300e-04, ...,\n",
       "            -1.38165778e-03,  1.60012758e-04,  1.31823029e-03],\n",
       "           [-5.00137103e-04,  8.61557724e-04, -5.20969683e-04, ...,\n",
       "            -7.68261845e-04, -1.17250299e-03,  4.71432897e-04],\n",
       "           [ 6.56734337e-04,  2.92353332e-04,  6.59148674e-04, ...,\n",
       "            -4.16576193e-04, -8.67524999e-04, -2.79720582e-04],\n",
       "           ...,\n",
       "           [ 2.75629951e-04,  1.60227215e-03, -7.63573160e-04, ...,\n",
       "            -3.92342714e-04, -4.51130851e-04, -5.05740347e-04],\n",
       "           [ 1.10585464e-03,  1.46929771e-04,  3.29390372e-04, ...,\n",
       "             7.69585080e-04, -5.29856945e-04, -2.93816964e-04],\n",
       "           [-3.64684529e-04, -1.31774950e-03,  1.15684071e-03, ...,\n",
       "            -8.66353512e-04,  1.93002998e-04,  6.53356954e-04]],\n",
       "   \n",
       "          [[-1.17681257e-03, -5.11533581e-04, -1.05485029e-03, ...,\n",
       "            -6.01864653e-04,  8.42628579e-05,  1.98504727e-04],\n",
       "           [-2.13690713e-04,  2.31315359e-03, -1.49828600e-04, ...,\n",
       "             1.32056500e-03,  8.59898224e-04,  2.59364286e-04],\n",
       "           [ 2.71527533e-04,  2.15689244e-04, -2.90207856e-04, ...,\n",
       "             5.04195632e-04,  9.00104234e-04, -8.68490024e-04],\n",
       "           ...,\n",
       "           [ 1.24083643e-04,  3.54176271e-04,  1.52664341e-03, ...,\n",
       "            -1.74626813e-03, -4.52499167e-04, -7.20058801e-04],\n",
       "           [-1.06367713e-03, -9.47774388e-04,  7.71791791e-04, ...,\n",
       "             7.15339556e-04, -7.43612181e-04, -2.97792809e-04],\n",
       "           [ 6.56823802e-04,  6.36210956e-04, -4.29260050e-04, ...,\n",
       "            -1.15331226e-04, -6.16818666e-04, -1.08681479e-03]],\n",
       "   \n",
       "          [[-1.02270838e-04, -9.87440813e-04,  7.29564868e-04, ...,\n",
       "             3.86621075e-04,  4.01071389e-04,  6.06561312e-04],\n",
       "           [-4.63935605e-04, -1.03569264e-03,  1.29921036e-03, ...,\n",
       "            -5.09737547e-05,  7.45396483e-06, -9.91267385e-04],\n",
       "           [ 7.05544429e-04, -6.99616154e-04, -1.64817215e-03, ...,\n",
       "            -4.79620248e-05,  2.18217785e-04,  8.78891791e-04],\n",
       "           ...,\n",
       "           [-1.43979816e-03,  3.08953982e-04,  8.39184868e-05, ...,\n",
       "            -1.62589224e-03,  2.40642368e-03, -2.01123170e-04],\n",
       "           [ 9.43779945e-04, -3.20293446e-04, -1.04206870e-03, ...,\n",
       "             6.89503140e-05,  1.30592345e-03, -1.42928539e-03],\n",
       "           [-4.46121296e-04, -7.12903216e-04,  1.07389584e-03, ...,\n",
       "             8.72462057e-04,  5.08700847e-04, -9.23074316e-04]]],      dtype=float32)}}}"
      ]
     },
     "execution_count": 46,
     "metadata": {},
     "output_type": "execute_result"
    }
   ],
   "source": [
    "init_params"
   ]
  },
  {
   "cell_type": "code",
   "execution_count": null,
   "metadata": {},
   "outputs": [],
   "source": [
    "first_genotype = jax.tree_util.tree_map(lambda x: x[0], init_params)"
   ]
  },
  {
   "cell_type": "code",
   "execution_count": null,
   "metadata": {},
   "outputs": [],
   "source": [
    "logps = jax.vmap(me_mcpg_emitter.emitters[0].compute_logps, in_axes=(None, 0, 0))(first_genotype, obs, actions)"
   ]
  },
  {
   "cell_type": "code",
   "execution_count": null,
   "metadata": {},
   "outputs": [
    {
     "data": {
      "text/plain": [
       "Array([[-1.806705 , -1.8067458, -1.8067316, ..., -1.806603 , -1.8066237,\n",
       "        -1.8066106],\n",
       "       [-1.8064888, -1.8065231, -1.8065507, ..., -1.8064908, -1.8065021,\n",
       "        -1.8064985],\n",
       "       [-1.8068137, -1.8068669, -1.806854 , ..., -1.8065951, -1.8065946,\n",
       "        -1.8065865],\n",
       "       ...,\n",
       "       [-1.807189 , -1.8070706, -1.8070931, ..., -1.8068595, -1.8067987,\n",
       "        -1.8067913],\n",
       "       [-1.8069313, -1.806901 , -1.8069676, ..., -1.806754 , -1.8067567,\n",
       "        -1.8067582],\n",
       "       [-1.8068497, -1.8068788, -1.8069222, ..., -1.8066405, -1.8066336,\n",
       "        -1.8066478]], dtype=float32)"
      ]
     },
     "execution_count": 54,
     "metadata": {},
     "output_type": "execute_result"
    }
   ],
   "source": [
    "logps"
   ]
  },
  {
   "cell_type": "code",
   "execution_count": null,
   "metadata": {},
   "outputs": [],
   "source": [
    "standardized_returns = me_mcpg_emitter.emitters[0].get_standardized_return(rewards, mask)"
   ]
  },
  {
   "cell_type": "code",
   "execution_count": null,
   "metadata": {},
   "outputs": [
    {
     "data": {
      "text/plain": [
       "Array([[0.99250793],\n",
       "       [0.9928867 ],\n",
       "       [0.99709135],\n",
       "       [0.998076  ],\n",
       "       [0.9950902 ],\n",
       "       [0.99378616],\n",
       "       [0.99568135],\n",
       "       [0.99687713],\n",
       "       [0.99556273],\n",
       "       [0.9943279 ]], dtype=float32)"
      ]
     },
     "execution_count": 77,
     "metadata": {},
     "output_type": "execute_result"
    }
   ],
   "source": [
    "rewards[0][20:30]"
   ]
  },
  {
   "cell_type": "code",
   "execution_count": null,
   "metadata": {},
   "outputs": [],
   "source": [
    "mask_ = jnp.expand_dims(mask, axis=-1)\n",
    "valid_rewards = (rewards * mask_).squeeze(axis=-1)\n",
    "return_ = jax.vmap(me_mcpg_emitter.emitters[0].get_return)(valid_rewards)"
   ]
  },
  {
   "cell_type": "code",
   "execution_count": null,
   "metadata": {},
   "outputs": [
    {
     "data": {
      "text/plain": [
       "Array([99.53472  , 99.52752  , 99.49046  , 99.47181  , 99.49231  ,\n",
       "       99.49552  , 99.466805 , 99.43712  , 99.44918  , 99.46025  ,\n",
       "       99.4587   , 99.440926 , 99.44003  , 99.44752  , 99.44797  ,\n",
       "       99.439156 , 99.435074 , 99.43884  , 99.43999  , 99.43548  ,\n",
       "       99.43209  , 99.43392  , 99.43539  , 99.43262  , 99.428825 ,\n",
       "       99.42802  , 99.42851  , 99.4271   , 99.42447  , 99.42314  ,\n",
       "       99.42304  , 99.4223   , 99.42064  , 99.41941  , 99.419044 ,\n",
       "       99.41863  , 99.41767  , 99.41675  , 99.416336 , 99.41608  ,\n",
       "       99.415565 , 99.414986 , 99.414665 , 99.414505 , 99.41426  ,\n",
       "       99.413956 , 99.41378  , 99.41374  , 99.41372  , 99.413666 ,\n",
       "       99.41368  , 99.41382  , 99.414    , 99.41419  , 99.41443  ,\n",
       "       99.41476  , 99.41515  , 99.41559  , 99.41606  , 99.41661  ,\n",
       "       99.41724  , 99.41791  , 99.41863  , 99.419426 , 99.42029  ,\n",
       "       99.42121  , 99.422195 , 99.42325  , 99.42437  , 99.42556  ,\n",
       "       99.42682  , 99.42814  , 99.429535 , 99.431    , 99.43253  ,\n",
       "       99.434135 , 99.435814 , 99.43758  , 99.43941  , 99.441315 ,\n",
       "       99.4433   , 99.445366 , 99.44751  , 99.44974  , 99.45204  ,\n",
       "       99.45443  , 99.4569   , 99.45945  , 99.46209  , 99.46481  ,\n",
       "       99.46762  , 99.47052  , 99.47351  , 99.47659  , 99.47976  ,\n",
       "       99.48302  , 99.486374 , 99.489815 , 99.49336  , 99.497    ,\n",
       "       99.50073  , 99.50456  , 99.50849  , 99.51252  , 99.51665  ,\n",
       "       99.52088  , 99.525215 , 99.52965  , 99.53419  , 99.53883  ,\n",
       "       99.54359  , 99.54845  , 99.55342  , 99.558495 , 99.56368  ,\n",
       "       99.56898  , 99.57439  , 99.5799   , 99.58554  , 99.591286 ,\n",
       "       99.597145 , 99.60312  , 99.60921  , 99.61541  , 99.62173  ,\n",
       "       99.62817  , 99.63472  , 99.64139  , 99.64818  , 99.65508  ,\n",
       "       99.6621   , 99.669235 , 99.67649  , 99.68387  , 99.69135  ,\n",
       "       99.69895  , 99.706665 , 99.7145   , 99.72245  , 99.730515 ,\n",
       "       99.738686 , 99.74697  , 99.75537  , 99.76388  , 99.7725   ,\n",
       "       99.78122  , 99.79005  , 99.79897  , 99.808    , 99.81712  ,\n",
       "       99.82634  , 99.83565  , 99.84505  , 99.85453  , 99.8641   ,\n",
       "       99.87374  , 99.88346  , 99.89325  , 99.90311  , 99.913025 ,\n",
       "       99.92299  , 99.93301  , 99.94306  , 99.95315  , 99.96203  ,\n",
       "       99.9546   , 99.942276 , 99.93043  , 99.91966  , 99.906525 ,\n",
       "       99.890854 , 99.87594  , 99.861595 , 99.84632  , 99.829414 ,\n",
       "       99.81212  , 99.79494  , 99.77716  , 99.75828  , 99.738625 ,\n",
       "       99.718666 , 99.69815  , 99.676765 , 99.65455  , 99.631744 ,\n",
       "       99.608345 , 99.58415  , 99.55914  , 99.533424 , 99.50703  ,\n",
       "       99.47986  , 99.45187  , 99.423134 , 99.396324 , 99.40855  ,\n",
       "       99.43349  , 99.442154 , 99.44375  , 99.455246 , 99.47026  ,\n",
       "       99.47933  , 99.48604  , 99.492294 , 99.49206  , 99.480316 ,\n",
       "       99.46994  , 99.469246 , 99.4704   , 99.4681   , 99.46514  ,\n",
       "       99.46301  , 99.45931  , 99.4547   , 99.45151  , 99.44932  ,\n",
       "       99.44648  , 99.44316  , 99.44003  , 99.43681  , 99.4333   ,\n",
       "       99.4299   , 99.42675  , 99.423485 , 99.42005  , 99.416756 ,\n",
       "       99.41365  , 99.41042  , 99.40715  , 99.40411  , 99.40113  ,\n",
       "       99.397995 , 99.394936 , 99.39206  , 99.38911  , 99.38606  ,\n",
       "       99.38316  , 99.3808   , 99.376785 , 99.37233  , 99.37098  ,\n",
       "       99.368034 , 99.36329  , 99.35834  , 99.35406  , 99.34901  ,\n",
       "       99.34404  , 99.34268  , 99.344666 , 99.34715  , 99.34834  ,\n",
       "       99.348755 , 99.349236 , 99.34977  , 99.35024  , 99.35089  ,\n",
       "       99.351746 , 99.35255  , 99.3532   , 99.35385  , 99.35456  ,\n",
       "       99.355255 , 99.35592  , 99.35662  , 99.35736  , 99.358086 ,\n",
       "       99.35877  , 99.359474 , 99.3602   , 99.360916 , 99.36163  ,\n",
       "       99.36236  , 99.3631   , 99.36384  , 99.36458  , 99.36533  ,\n",
       "       99.3661   , 99.36687  , 99.367645 , 99.36843  , 99.369225 ,\n",
       "       99.37002  , 99.37082  , 99.371635 , 99.37246  , 99.3733   ,\n",
       "       99.37415  , 99.375015 , 99.3759   , 99.37705  , 99.37871  ,\n",
       "       99.38083  , 99.38322  , 99.385895 , 99.38899  , 99.392555 ,\n",
       "       99.39661  , 99.401184 , 99.406265 , 99.41179  , 99.417786 ,\n",
       "       99.4243   , 99.43134  , 99.43887  , 99.4469   , 99.455215 ,\n",
       "       99.46287  , 99.46908  , 99.47393  , 99.47796  , 99.481346 ,\n",
       "       99.47959  , 99.473045 , 99.47687  , 99.48068  , 99.47694  ,\n",
       "       99.474815 , 99.476685 , 99.476105 , 99.47351  , 99.474174 ,\n",
       "       99.46902  , 99.467995 , 99.464096 , 99.46162  , 99.45801  ,\n",
       "       99.45985  , 99.45442  , 99.4558   , 99.45049  , 99.45111  ,\n",
       "       99.44706  , 99.443886 , 99.44318  , 99.439804 , 99.439445 ,\n",
       "       99.43569  , 99.43475  , 99.431885 , 99.42981  , 99.42728  ,\n",
       "       99.424675 , 99.42443  , 99.421135 , 99.42151  , 99.41691  ,\n",
       "       99.41496  , 99.413994 , 99.41072  , 99.41184  , 99.40572  ,\n",
       "       99.4055   , 99.402306 , 99.399925 , 99.40228  , 99.39414  ,\n",
       "       99.39528  , 99.3926   , 99.38747  , 99.3911   , 99.38342  ,\n",
       "       99.38404  , 99.38169  , 99.37538  , 99.37782  , 99.37251  ,\n",
       "       99.37071  , 99.36895  , 99.36369  , 99.36308  , 99.360825 ,\n",
       "       99.35685  , 99.35533  , 99.35317  , 99.348724 , 99.34797  ,\n",
       "       99.3469   , 99.34032  , 99.341774 , 99.33734  , 99.33362  ,\n",
       "       99.33694  , 99.328285 , 99.32879  , 99.32972  , 99.32114  ,\n",
       "       99.32336  , 99.31985  , 99.313515 , 99.316124 , 99.309456 ,\n",
       "       99.30593  , 99.3072   , 99.30099  , 99.29851  , 99.29634  ,\n",
       "       99.29218  , 99.291    , 99.28694  , 99.28379  , 99.28303  ,\n",
       "       99.27806  , 99.27569  , 99.27185  , 99.26889  , 99.26766  ,\n",
       "       99.26382  , 99.260666 , 99.258865 , 99.25462  , 99.252754 ,\n",
       "       99.24787  , 99.24558  , 99.24403  , 99.23672  , 99.23628  ,\n",
       "       99.23551  , 99.22679  , 99.227516 , 99.22465  , 99.21674  ,\n",
       "       99.219154 , 99.21318  , 99.20663  , 99.20913  , 99.20261  ,\n",
       "       99.1972   , 99.19697  , 99.19157  , 99.18767  , 99.185104 ,\n",
       "       99.18059  , 99.176926 , 99.17393  , 99.170685 , 99.16557  ,\n",
       "       99.162926 , 99.1611   , 99.154976 , 99.15217  , 99.15013  ,\n",
       "       99.143936 , 99.14117  , 99.138985 , 99.13266  , 99.12983  ,\n",
       "       99.12755  , 99.12112  , 99.11822  , 99.11585  , 99.1093   ,\n",
       "       99.106316 , 99.10387  , 99.097206 , 99.094124 , 99.09159  ,\n",
       "       99.084816 , 99.08162  , 99.07899  , 99.07211  , 99.06885  ,\n",
       "       99.06599  , 99.0579   , 99.05469  , 99.05234  , 99.04435  ,\n",
       "       99.040184 , 99.03798  , 99.029495 , 99.02555  , 99.02384  ,\n",
       "       99.01523  , 99.01093  , 99.008934 , 99.00031  , 98.99601  ,\n",
       "       98.99384  , 98.98504  , 98.9806   , 98.978294 , 98.96939  ,\n",
       "       98.963425 , 98.96189  , 98.95297  , 98.94748  , 98.944405 ,\n",
       "       98.935486 , 98.92996  , 98.92711  , 98.91803  , 98.91214  ,\n",
       "       98.90911  , 98.89989  , 98.89323  , 98.89056  , 98.881485 ,\n",
       "       98.8743   , 98.872215 , 98.862946 , 98.85536  , 98.85305  ,\n",
       "       98.84376  , 98.83479  , 98.83295  , 98.82429  , 98.81497  ,\n",
       "       98.81318  , 98.80405  , 98.794426 , 98.791916 , 98.78272  ,\n",
       "       98.77218  , 98.76772  , 98.759544 , 98.74901  , 98.74488  ,\n",
       "       98.73648  , 98.72538  , 98.720924 , 98.712425 , 98.701195 ,\n",
       "       98.696465 , 98.68767  , 98.676186 , 98.67123  , 98.66219  ,\n",
       "       98.65045  , 98.64523  , 98.63593  , 98.62393  , 98.61846  ,\n",
       "       98.6089   , 98.59663  , 98.59089  , 98.581055 , 98.56851  ,\n",
       "       98.56251  , 98.55239  , 98.539566 , 98.533264 , 98.522865 ,\n",
       "       98.50974  , 98.50315  , 98.492455 , 98.47903  , 98.47214  ,\n",
       "       98.461136 , 98.447395 , 98.44019  , 98.42887  , 98.41481  ,\n",
       "       98.40729  , 98.39564  , 98.38124  , 98.37338  , 98.3614   ,\n",
       "       98.346664 , 98.33846  , 98.326126 , 98.311035 , 98.30248  ,\n",
       "       98.28979  , 98.27434  , 98.26542  , 98.25236  , 98.23653  ,\n",
       "       98.227234 , 98.21379  , 98.19758  , 98.187904 , 98.17407  ,\n",
       "       98.15746  , 98.14739  , 98.13315  , 98.116135 , 98.105644 ,\n",
       "       98.09099  , 98.07355  , 98.06264  , 98.04755  , 98.02967  ,\n",
       "       98.01832  , 98.002785 , 97.98446  , 97.972664 , 97.95667  ,\n",
       "       97.93788  , 97.92562  , 97.90916  , 97.889885 , 97.876526 ,\n",
       "       97.8598   , 97.84017  , 97.82593  , 97.80922  , 97.78975  ,\n",
       "       97.774475 , 97.75727  , 97.73766  , 97.72099  , 97.70432  ,\n",
       "       97.68423  , 97.66617  , 97.649506 , 97.62898  , 97.610245 ,\n",
       "       97.59294  , 97.5719   , 97.55259  , 97.53468  , 97.51308  ,\n",
       "       97.49318  , 97.47464  , 97.45244  , 97.43195  , 97.41279  ,\n",
       "       97.38995  , 97.36884  , 97.349045 , 97.325554 , 97.3038   ,\n",
       "       97.28335  , 97.25919  , 97.23677  , 97.215645 , 97.19081  ,\n",
       "       97.1677   , 97.14589  , 97.12035  , 97.09653  , 97.074    ,\n",
       "       97.04774  , 97.02318  , 96.99991  , 96.97291  , 96.9476   ,\n",
       "       96.92357  , 96.8958   , 96.86971  , 96.844894 , 96.81633  ,\n",
       "       96.78945  , 96.763824 , 96.73444  , 96.70673  , 96.680275 ,\n",
       "       96.650055 , 96.621506 , 96.59419  , 96.5631   , 96.53367  ,\n",
       "       96.50547  , 96.47349  , 96.44315  , 96.41404  , 96.381134 ,\n",
       "       96.34987  , 96.31981  , 96.28596  , 96.25374  , 96.22272  ,\n",
       "       96.18788  , 96.15467  , 96.12265  , 96.08681  , 96.05258  ,\n",
       "       96.01953  , 95.98264  , 95.947365 , 95.91325  , 95.875305 ,\n",
       "       95.83894  , 95.80374  , 95.76469  , 95.72721  , 95.69088  ,\n",
       "       95.65068  , 95.61206  , 95.57456  , 95.533195 , 95.493385 ,\n",
       "       95.45469  , 95.41211  , 95.371086 , 95.33116  , 95.28734  ,\n",
       "       95.24505  , 95.20385  , 95.158745 , 95.115166 , 95.07266  ,\n",
       "       95.02623  , 94.981316 , 94.937454 , 94.88966  , 94.84337  ,\n",
       "       94.79812  , 94.74892  , 94.70121  , 94.654526 , 94.603874 ,\n",
       "       94.5547   , 94.50654  , 94.4544   , 94.40372  , 94.354034 ,\n",
       "       94.300354 , 94.248116 , 94.19686  , 94.141594 , 94.08776  ,\n",
       "       94.03488  , 93.97798  , 93.92249  , 93.86795  , 93.80937  ,\n",
       "       93.75218  , 93.695915 , 93.6356   , 93.57666  , 93.51863  ,\n",
       "       93.45652  , 93.395775 , 93.335915 , 93.27196  , 93.20934  ,\n",
       "       93.1476   , 93.08175  , 93.01722  , 92.953545 , 92.885735 ,\n",
       "       92.81923  , 92.75355  , 92.683716 , 92.615166 , 92.54743  ,\n",
       "       92.47552  , 92.40487  , 92.33501  , 92.260956 , 92.18814  ,\n",
       "       92.11609  , 92.039825 , 91.96478  , 91.89048  , 91.81194  ,\n",
       "       91.7346   , 91.657974 , 91.57709  , 91.49737  , 91.41835  ,\n",
       "       91.33505  , 91.2529   , 91.17141  , 91.08561  , 91.00094  ,\n",
       "       90.9169   , 90.82854  , 90.741264 , 90.65461  , 90.56359  ,\n",
       "       90.47365  , 90.384285 , 90.290535 , 90.19784  , 90.1057   ,\n",
       "       90.00915  , 89.913605 , 89.818596 , 89.71915  , 89.62068  ,\n",
       "       89.52271  , 89.42027  , 89.31879  , 89.217766 , 89.11224  ,\n",
       "       89.00765  , 88.90349  , 88.79479  , 88.687    , 88.579605 ,\n",
       "       88.46764  , 88.356544 , 88.24581  , 88.13048  , 88.015976 ,\n",
       "       87.90181  , 87.783005 , 87.66499  , 87.54728  , 87.4249   ,\n",
       "       87.30327  , 87.1819   , 87.05583  , 86.93048  , 86.80534  ,\n",
       "       86.67547  , 86.54628  , 86.417274 , 86.28348  , 86.15033  ,\n",
       "       86.01733  , 85.8795   , 85.74227  , 85.60514  , 85.46314  ,\n",
       "       85.32171  , 85.18033  , 85.03405  , 84.88829  , 84.74254  ,\n",
       "       84.591835 , 84.441605 , 84.291336 , 84.13608  , 83.98125  ,\n",
       "       83.82633  , 83.666374 , 83.506805 , 83.34711  , 83.18231  ,\n",
       "       83.01785  , 82.85321  , 82.683426 , 82.51393  , 82.3442   ,\n",
       "       82.16928  , 81.9946   , 81.819626 , 81.639404 , 81.459366 ,\n",
       "       81.278984 , 81.09331  , 80.90775  , 80.7218   , 80.530495 ,\n",
       "       80.33926  , 80.14756  , 79.950455 , 79.753365 , 79.55575  ,\n",
       "       79.35266  , 79.149536 , 78.94583  , 78.736595 , 78.527245 ,\n",
       "       78.317245 , 78.101654 , 77.885895 , 77.669426 , 77.447296 ,\n",
       "       77.22492  , 77.00178  , 76.7729   , 76.543724 , 76.3137   ,\n",
       "       76.07787  , 75.841675 , 75.60455  , 75.361565 , 75.11813  ,\n",
       "       74.8737   , 74.62334  , 74.37245  , 74.12049  , 73.86252  ,\n",
       "       73.60395  , 73.34424  , 73.07842  , 72.811935 , 72.54422  ,\n",
       "       72.270325 , 71.99568  , 71.71972  , 71.43749  , 71.154434 ,\n",
       "       70.86998  , 70.57917  , 70.287445 , 69.99423  , 69.69459  ,\n",
       "       69.39393  , 69.09169  , 68.78293  , 68.47306  , 68.16152  ,\n",
       "       67.84337  , 67.52402  , 67.20289  , 66.875046 , 66.54591  ,\n",
       "       66.21491  , 65.87709  , 65.53788  , 65.1967   , 64.848595 ,\n",
       "       64.49899  , 64.147316 , 63.788612 , 63.428307 , 63.06581  ,\n",
       "       62.696186 , 62.324852 , 61.951214 , 61.57033  , 61.187626 ,\n",
       "       60.8025   , 60.410015 , 60.01559  , 59.618633 , 59.21419  ,\n",
       "       58.80769  , 58.39853  , 57.981766 , 57.562817 , 57.141083 ,\n",
       "       56.711617 , 56.27984  , 55.845146 , 55.402588 , 54.957592 ,\n",
       "       54.509544 , 54.0535   , 53.59488  , 53.133064 , 52.663113 ,\n",
       "       52.19045  , 51.714447 , 51.23017  , 50.743034 , 50.25242  ,\n",
       "       49.753372 , 49.251316 , 48.745632 , 48.231373 , 47.713947 ,\n",
       "       47.192734 , 46.66279  , 46.12952  , 45.5923   , 45.046185 ,\n",
       "       44.49659  , 43.942883 , 43.380108 , 42.813686 , 42.242977 ,\n",
       "       41.663033 , 41.07927  , 40.491043 , 39.893406 , 39.291767 ,\n",
       "       38.685486 , 38.069607 , 37.44955  , 36.824665 , 36.189995 ,\n",
       "       35.550953 , 34.906883 , 34.252842 , 33.59424  , 32.93041  ,\n",
       "       32.2564   , 31.57763  , 30.89343  , 30.19885  , 29.499298 ,\n",
       "       28.79411  , 28.078325 , 27.357355 , 26.63053  , 25.89289  ,\n",
       "       25.14985  , 24.400728 , 23.64057  , 22.874779 , 22.102676 ,\n",
       "       21.319302 , 20.530064 , 19.734278 , 18.926983 , 18.113583 ,\n",
       "       17.293388 , 16.46144  , 15.6231365, 14.777788 , 13.920429 ,\n",
       "       13.056462 , 12.185189 , 11.301643 , 10.411224 ,  9.513231 ,\n",
       "        8.602698 ,  7.68502  ,  6.75949  ,  5.821142 ,  4.8753705,\n",
       "        3.9214602,  2.9544446,  1.9797174,  0.9965595,  0.       ],      dtype=float32)"
      ]
     },
     "execution_count": 75,
     "metadata": {},
     "output_type": "execute_result"
    }
   ],
   "source": [
    "return_[0][]"
   ]
  }
 ],
 "metadata": {
  "kernelspec": {
   "display_name": "my_env",
   "language": "python",
   "name": "python3"
  },
  "language_info": {
   "codemirror_mode": {
    "name": "ipython",
    "version": 3
   },
   "file_extension": ".py",
   "mimetype": "text/x-python",
   "name": "python",
   "nbconvert_exporter": "python",
   "pygments_lexer": "ipython3",
   "version": "3.10.12"
  }
 },
 "nbformat": 4,
 "nbformat_minor": 2
}
