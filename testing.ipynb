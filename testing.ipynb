{
 "cells": [
  {
   "cell_type": "code",
   "execution_count": 1,
   "metadata": {},
   "outputs": [
    {
     "name": "stdout",
     "output_type": "stream",
     "text": [
      "{'coverage': array([15.136719, 20.605469, 26.074219, 31.054688, 35.546875, 39.35547 ,\n",
      "       41.11328 , 42.96875 , 44.23828 , 45.80078 ], dtype=float32), 'evaluation': array([   1,    2,    3, ..., 5118, 5119, 5120], dtype=int32), 'ga_offspring_added': array([118, 130, 126, 141, 135, 132, 137, 131, 118, 107], dtype=int32), 'iteration': array([ 1,  2,  3,  4,  5,  6,  7,  8,  9, 10], dtype=int32), 'max_fitness': array([376.29968, 376.29968, 381.6433 , 381.99127, 381.99127, 401.37686,\n",
      "       401.37686, 401.37686, 403.90894, 434.19983], dtype=float32), 'qd_score': array([ 23387.658,  31996.395,  42255.664,  53492.258,  65305.195,\n",
      "        76788.11 ,  86616.016,  95418.63 , 103192.38 , 108549.625],\n",
      "      dtype=float32), 'time': array([5.3657665, 5.3657665, 5.3657665, 5.3657665, 5.3657665, 5.3657665,\n",
      "       5.3657665, 5.3657665, 5.3657665, 5.3657665], dtype=float32)}\n"
     ]
    }
   ],
   "source": [
    "import pickle\n",
    "\n",
    "# Path to your pickle file\n",
    "file_path = \"output/walker2d_uni_250/me/2024-12-10_115938_814336/metrics_incremental.pickle\"\n",
    "\n",
    "# Open the file in read-binary mode and load the content\n",
    "with open(file_path, \"rb\") as f:\n",
    "    data = pickle.load(f)\n",
    "\n",
    "# `data` now contains the object that was saved in the pickle file\n",
    "print(data)"
   ]
  },
  {
   "cell_type": "code",
   "execution_count": null,
   "metadata": {},
   "outputs": [],
   "source": [
    "import pickle\n",
    "\n",
    "# Path to your pickle file\n",
    "file_path = \"output/walker2d_uni_250/me/2024-12-10_115938_814336/metrics.pickle\"\n",
    "\n",
    "# Open the file in read-binary mode and load the content\n",
    "with open(file_path, \"rb\") as f:\n",
    "    data = pickle.load(f)\n",
    "\n",
    "# `data` now contains the object that was saved in the pickle file\n",
    "print(data)"
   ]
  }
 ],
 "metadata": {
  "kernelspec": {
   "display_name": "venv",
   "language": "python",
   "name": "python3"
  },
  "language_info": {
   "codemirror_mode": {
    "name": "ipython",
    "version": 3
   },
   "file_extension": ".py",
   "mimetype": "text/x-python",
   "name": "python",
   "nbconvert_exporter": "python",
   "pygments_lexer": "ipython3",
   "version": "3.10.12"
  }
 },
 "nbformat": 4,
 "nbformat_minor": 2
}
