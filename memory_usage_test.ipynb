{
 "cells": [
  {
   "cell_type": "code",
   "execution_count": 1,
   "metadata": {},
   "outputs": [
    {
     "name": "stdout",
     "output_type": "stream",
     "text": [
      "zsh:1: command not found: nvidia-smi\n"
     ]
    }
   ],
   "source": [
    "!nvidia-smi"
   ]
  },
  {
   "cell_type": "code",
   "execution_count": 2,
   "metadata": {},
   "outputs": [],
   "source": [
    "import jax"
   ]
  },
  {
   "cell_type": "code",
   "execution_count": 3,
   "metadata": {},
   "outputs": [
    {
     "data": {
      "text/plain": [
       "Array([[ 47.719368  ,  40.585526  , -90.248505  , ...,  51.89235   ,\n",
       "        -20.879017  ,  40.451527  ],\n",
       "       [100.30985   ,  75.89272   ,   7.9773855 , ...,  34.412895  ,\n",
       "         73.63941   , -73.63881   ],\n",
       "       [ 59.287136  , -19.319431  , 103.5338    , ..., -82.44553   ,\n",
       "          0.89446974, -65.93801   ],\n",
       "       ...,\n",
       "       [103.462494  , -53.56581   ,  62.49594   , ...,  26.648842  ,\n",
       "        -66.81282   , -98.089516  ],\n",
       "       [-24.677319  ,  88.94314   ,  78.92721   , ...,  -8.968887  ,\n",
       "         39.87651   , 153.63954   ],\n",
       "       [ 19.104967  , -43.96855   ,   0.595768  , ..., -56.27555   ,\n",
       "        121.180504  , -76.4398    ]], dtype=float32)"
      ]
     },
     "execution_count": 3,
     "metadata": {},
     "output_type": "execute_result"
    }
   ],
   "source": [
    "jax.profiler.start_server(9999)\n",
    "\n",
    "# Run the operations to be profiled\n",
    "key = jax.random.PRNGKey(0)\n",
    "x = jax.random.normal(key, (5000, 5000))\n",
    "y = x @ x\n",
    "y.block_until_ready()\n",
    "\n",
    "# Optionally, stop the server when done profiling\n",
    "# jax.profiler.stop_server()"
   ]
  },
  {
   "cell_type": "code",
   "execution_count": 3,
   "metadata": {},
   "outputs": [
    {
     "name": "stderr",
     "output_type": "stream",
     "text": [
      "2024-07-08 18:12:42.929567: E external/xla/xla/python/profiler/internal/python_hooks.cc:398] Can't import tensorflow.python.profiler.trace\n",
      "2024-07-08 18:12:43.333353: E external/xla/xla/python/profiler/internal/python_hooks.cc:398] Can't import tensorflow.python.profiler.trace\n"
     ]
    }
   ],
   "source": [
    "with jax.profiler.trace(\"/tmp/tensorboard\"):\n",
    "  key = jax.random.key(0)\n",
    "  x = jax.random.normal(key, (5000, 5000))\n",
    "  y = x @ x\n",
    "  y.block_until_ready()\n"
   ]
  }
 ],
 "metadata": {
  "kernelspec": {
   "display_name": "my_env",
   "language": "python",
   "name": "python3"
  },
  "language_info": {
   "codemirror_mode": {
    "name": "ipython",
    "version": 3
   },
   "file_extension": ".py",
   "mimetype": "text/x-python",
   "name": "python",
   "nbconvert_exporter": "python",
   "pygments_lexer": "ipython3",
   "version": "3.10.0"
  }
 },
 "nbformat": 4,
 "nbformat_minor": 2
}
